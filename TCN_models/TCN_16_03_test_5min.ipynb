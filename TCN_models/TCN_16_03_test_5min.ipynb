{
 "cells": [
  {
   "cell_type": "code",
   "execution_count": 1,
   "metadata": {},
   "outputs": [],
   "source": [
    "%load_ext autotime\n",
    "\n",
    "import os, math\n",
    "\n",
    "import pandas as pd\n",
    "import numpy as np\n",
    "import matplotlib.pyplot as plt\n",
    "import seaborn as sns\n",
    "\n",
    "from tqdm import tqdm, trange"
   ]
  },
  {
   "cell_type": "code",
   "execution_count": 2,
   "metadata": {},
   "outputs": [
    {
     "name": "stdout",
     "output_type": "stream",
     "text": [
      "time: 4.69 s\n"
     ]
    }
   ],
   "source": [
    "from sklearn.preprocessing import MinMaxScaler\n",
    "from tcn import TCN\n",
    "from tensorflow.keras.layers import Dense, Dropout\n",
    "from tensorflow.keras import Input, Model\n",
    "from sklearn.metrics import mean_squared_error, mean_absolute_error\n",
    "\n",
    "def model(test_data, train_data):\n",
    "    test_time = test_data['time']\n",
    "    test_gl_value = test_data['gl_value']\n",
    "    \n",
    "    test_data.drop(columns = ['time'], inplace = True)\n",
    "    train_data.rename(columns = {'bolus_type_normal dual':'bolus_type_normal_dual', 'bolus_type_square dual':'bolus_type_square_dual'}, inplace = True)\n",
    "    train_data.drop(columns = ['time'], inplace = True)\n",
    "    \n",
    "    empty_train_col = [0]*len(train_data)\n",
    "    for i, item in enumerate(test_data.columns):\n",
    "        if item not in train_data.columns:\n",
    "            train_data.insert(i, item, empty_train_col)\n",
    "\n",
    "    empty_test_col = [0]*len(test_data)\n",
    "    for i, item in enumerate(train_data.columns):\n",
    "        if item not in test_data.columns:\n",
    "            test_data.insert(i, item, empty_test_col)\n",
    "    \n",
    "    X_data = train_data.drop(columns = ['gl_predict'])\n",
    "    y_data = train_data[['gl_predict']]\n",
    "    input_dim = X_data.shape[1]\n",
    "    \n",
    "    scaler_x = MinMaxScaler()\n",
    "    scaler_y = MinMaxScaler()\n",
    "    scaler_x.fit(X_data)\n",
    "    scaler_y.fit(y_data)\n",
    "    scaled_X_train_data = scaler_x.transform(X_data)\n",
    "    scaled_y_train_data = scaler_y.transform(y_data)\n",
    "    scaled_X_train_data = np.reshape(scaled_X_train_data, (scaled_X_train_data.shape[0], 1, scaled_X_train_data.shape[1]))\n",
    "    \n",
    "    batch_size, timesteps, input_dim = 1, 1, input_dim\n",
    "    i = Input(batch_shape=(batch_size, timesteps, input_dim))\n",
    "    o = TCN(return_sequences = False)(i)\n",
    "    o = Dense(1)(o)\n",
    "    \n",
    "    model = Model(inputs=[i], outputs=[o])\n",
    "    model.compile(optimizer = 'adam', loss = 'mse')\n",
    "\n",
    "    x, y = scaled_X_train_data, scaled_y_train_data\n",
    "    model.fit(x, y, epochs = 10)\n",
    "    X_test_data = test_data.drop(columns = ['gl_predict'])\n",
    "    y_test_data = test_data[['gl_predict']]\n",
    "    scaled_X_test_data = scaler_x.transform(X_test_data)\n",
    "    scaled_X_test_data = np.reshape(scaled_X_test_data, (scaled_X_test_data.shape[0], 1, scaled_X_test_data.shape[1]))\n",
    "    prediction = model.predict(scaled_X_test_data, batch_size = 1)\n",
    "    scaled_prediction = scaler_y.inverse_transform(prediction)\n",
    "    \n",
    "    final_output = pd.DataFrame(columns = ['timestamp', 'predicted_BGL_value'])\n",
    "    final_output['timestamp'] = test_time\n",
    "#     final_output['true_BGL_value'] = test_gl_value\n",
    "    final_output['predicted_BGL_value'] = scaled_prediction\n",
    "    \n",
    "    return (final_output, math.sqrt(mean_squared_error(scaled_prediction, y_test_data)), mean_absolute_error(scaled_prediction, y_test_data))"
   ]
  },
  {
   "cell_type": "code",
   "execution_count": 3,
   "metadata": {
    "scrolled": true
   },
   "outputs": [
    {
     "name": "stdout",
     "output_type": "stream",
     "text": [
      "Train on 13247 samples\n",
      "Epoch 1/10\n",
      "13247/13247 [==============================] - 130s 10ms/sample - loss: 0.0337\n",
      "Epoch 2/10\n",
      "13247/13247 [==============================] - 140s 11ms/sample - loss: 0.0013\n",
      "Epoch 3/10\n",
      "13247/13247 [==============================] - 101s 8ms/sample - loss: 8.7209e-04\n",
      "Epoch 4/10\n",
      "13247/13247 [==============================] - 89s 7ms/sample - loss: 0.0012\n",
      "Epoch 5/10\n",
      "13247/13247 [==============================] - 89s 7ms/sample - loss: 7.9397e-04\n",
      "Epoch 6/10\n",
      "13247/13247 [==============================] - 89s 7ms/sample - loss: 7.7469e-04\n",
      "Epoch 7/10\n",
      "13247/13247 [==============================] - 76s 6ms/sample - loss: 7.5038e-04\n",
      "Epoch 8/10\n",
      "13247/13247 [==============================] - 77s 6ms/sample - loss: 7.4912e-04\n",
      "Epoch 9/10\n",
      "13247/13247 [==============================] - 76s 6ms/sample - loss: 7.4604e-04\n",
      "Epoch 10/10\n",
      "13247/13247 [==============================] - 76s 6ms/sample - loss: 7.4701e-04\n",
      "584-ws-training.csv - 8.900699452532583\n",
      "584-ws-training.csv - 5.2534118147794615\n",
      "Train on 13535 samples\n",
      "Epoch 1/10\n",
      "13535/13535 [==============================] - 75s 6ms/sample - loss: 0.0326\n",
      "Epoch 2/10\n",
      "13535/13535 [==============================] - 73s 5ms/sample - loss: 0.0013\n",
      "Epoch 3/10\n",
      "13535/13535 [==============================] - 73s 5ms/sample - loss: 6.2927e-04\n",
      "Epoch 4/10\n",
      "13535/13535 [==============================] - 72s 5ms/sample - loss: 5.7457e-04\n",
      "Epoch 5/10\n",
      "13535/13535 [==============================] - 73s 5ms/sample - loss: 5.3430e-04\n",
      "Epoch 6/10\n",
      "13535/13535 [==============================] - 72s 5ms/sample - loss: 5.2125e-04\n",
      "Epoch 7/10\n",
      "13535/13535 [==============================] - 72s 5ms/sample - loss: 5.2211e-04\n",
      "Epoch 8/10\n",
      "13535/13535 [==============================] - 72s 5ms/sample - loss: 5.1059e-04\n",
      "Epoch 9/10\n",
      "13535/13535 [==============================] - 72s 5ms/sample - loss: 4.9853e-04\n",
      "Epoch 10/10\n",
      "13535/13535 [==============================] - 70s 5ms/sample - loss: 5.0343e-04\n",
      "567-ws-training.csv - 7.594278494327072\n",
      "567-ws-training.csv - 3.7528450503997273\n",
      "Train on 13628 samples\n",
      "Epoch 1/10\n",
      "13628/13628 [==============================] - 70s 5ms/sample - loss: 0.0600\n",
      "Epoch 2/10\n",
      "13628/13628 [==============================] - 67s 5ms/sample - loss: 7.9834e-04\n",
      "Epoch 3/10\n",
      "13628/13628 [==============================] - 67s 5ms/sample - loss: 5.1232e-04\n",
      "Epoch 4/10\n",
      "13628/13628 [==============================] - 67s 5ms/sample - loss: 4.5352e-04\n",
      "Epoch 5/10\n",
      "13628/13628 [==============================] - 67s 5ms/sample - loss: 4.2409e-04\n",
      "Epoch 6/10\n",
      "13628/13628 [==============================] - 67s 5ms/sample - loss: 4.0682e-04\n",
      "Epoch 7/10\n",
      "13628/13628 [==============================] - 67s 5ms/sample - loss: 5.7726e-04\n",
      "Epoch 8/10\n",
      "13628/13628 [==============================] - 67s 5ms/sample - loss: 3.8846e-04\n",
      "Epoch 9/10\n",
      "13628/13628 [==============================] - 62s 5ms/sample - loss: 3.8630e-04\n",
      "Epoch 10/10\n",
      "13628/13628 [==============================] - 61s 4ms/sample - loss: 3.8341e-04\n",
      "596-ws-training.csv - 5.992518677717183\n",
      "596-ws-training.csv - 4.2468742673036495\n",
      "Train on 11096 samples\n",
      "Epoch 1/10\n",
      "11096/11096 [==============================] - 51s 5ms/sample - loss: 0.0547\n",
      "Epoch 2/10\n",
      "11096/11096 [==============================] - 49s 4ms/sample - loss: 0.0015\n",
      "Epoch 3/10\n",
      "11096/11096 [==============================] - 49s 4ms/sample - loss: 0.0054\n",
      "Epoch 4/10\n",
      "11096/11096 [==============================] - 39s 4ms/sample - loss: 5.8994e-04\n",
      "Epoch 5/10\n",
      "11096/11096 [==============================] - 39s 4ms/sample - loss: 6.0978e-04\n",
      "Epoch 6/10\n",
      "11096/11096 [==============================] - 39s 4ms/sample - loss: 5.8232e-04\n",
      "Epoch 7/10\n",
      "11096/11096 [==============================] - 36s 3ms/sample - loss: 5.7619e-04\n",
      "Epoch 8/10\n",
      "11096/11096 [==============================] - 29s 3ms/sample - loss: 5.6751e-04\n",
      "Epoch 9/10\n",
      "11096/11096 [==============================] - 29s 3ms/sample - loss: 5.3971e-04\n",
      "Epoch 10/10\n",
      "11096/11096 [==============================] - 29s 3ms/sample - loss: 5.2846e-04\n",
      "552-ws-training.csv - 4.146463734305543\n",
      "552-ws-training.csv - 3.0411161682097996\n",
      "Train on 13104 samples\n",
      "Epoch 1/10\n",
      "13104/13104 [==============================] - 35s 3ms/sample - loss: 0.0410\n",
      "Epoch 2/10\n",
      "13104/13104 [==============================] - 34s 3ms/sample - loss: 6.1605e-04\n",
      "Epoch 3/10\n",
      "13104/13104 [==============================] - 34s 3ms/sample - loss: 3.8177e-04\n",
      "Epoch 4/10\n",
      "13104/13104 [==============================] - 34s 3ms/sample - loss: 2.9668e-04\n",
      "Epoch 5/10\n",
      "13104/13104 [==============================] - 34s 3ms/sample - loss: 2.7500e-04\n",
      "Epoch 6/10\n",
      "13104/13104 [==============================] - 34s 3ms/sample - loss: 2.5901e-04\n",
      "Epoch 7/10\n",
      "13104/13104 [==============================] - 34s 3ms/sample - loss: 0.1073\n",
      "Epoch 8/10\n",
      "13104/13104 [==============================] - 34s 3ms/sample - loss: 5.1095e-04\n",
      "Epoch 9/10\n",
      "13104/13104 [==============================] - 34s 3ms/sample - loss: 2.5382e-04\n",
      "Epoch 10/10\n",
      "13104/13104 [==============================] - 34s 3ms/sample - loss: 2.6741e-04\n",
      "544-ws-training.csv - 5.718122160673547\n",
      "544-ws-training.csv - 4.042229633240038\n",
      "Train on 13104 samples\n",
      "Epoch 1/10\n",
      "13104/13104 [==============================] - 35s 3ms/sample - loss: 0.0432\n",
      "Epoch 2/10\n",
      "13104/13104 [==============================] - 34s 3ms/sample - loss: 7.9877e-04\n",
      "Epoch 3/10\n",
      "13104/13104 [==============================] - 34s 3ms/sample - loss: 5.2436e-04\n",
      "Epoch 4/10\n",
      "13104/13104 [==============================] - 34s 3ms/sample - loss: 7.0527e-04\n",
      "Epoch 5/10\n",
      "13104/13104 [==============================] - 34s 3ms/sample - loss: 4.7183e-04\n",
      "Epoch 6/10\n",
      "13104/13104 [==============================] - 34s 3ms/sample - loss: 4.5959e-04\n",
      "Epoch 7/10\n",
      "13104/13104 [==============================] - 34s 3ms/sample - loss: 4.2820e-04\n",
      "Epoch 8/10\n",
      "13104/13104 [==============================] - 34s 3ms/sample - loss: 4.3279e-04\n",
      "Epoch 9/10\n",
      "13104/13104 [==============================] - 34s 3ms/sample - loss: 4.1999e-04\n",
      "Epoch 10/10\n",
      "13104/13104 [==============================] - 34s 3ms/sample - loss: 4.1152e-04\n",
      "540-ws-training.csv - 7.187775968080308\n",
      "540-ws-training.csv - 5.247398446162412\n",
      "time: 57min 25s\n"
     ]
    }
   ],
   "source": [
    "test_data_list = ['540-ws-training.csv', '544-ws-training.csv', '552-ws-training.csv', '567-ws-training.csv', '584-ws-training.csv', '596-ws-training.csv']\n",
    "\n",
    "rmse_list = {}\n",
    "mae_list = {}\n",
    "for file in os.listdir('../data/derived/5_min_complete_dataset/'):\n",
    "    if file in test_data_list:\n",
    "        train_data = pd.read_csv('../data/derived/5_min_complete_dataset/'+file)\n",
    "        test_data = pd.read_csv('../data/derived_test/5_min_complete_dataset/'+file[0:7]+'testing.csv')\n",
    "        final_output, rmse_error, mae_error = model(test_data, train_data)\n",
    "        rmse_list[file] = rmse_error\n",
    "        mae_list[file] = mae_error\n",
    "        print ('{} - {}'.format(file, rmse_error))\n",
    "        print ('{} - {}'.format(file, mae_error))\n",
    "        final_output.to_csv('../data/output/tcn/'+file[0:7]+'result_5min.csv')"
   ]
  },
  {
   "cell_type": "code",
   "execution_count": 4,
   "metadata": {
    "scrolled": false
   },
   "outputs": [
    {
     "data": {
      "text/plain": [
       "{'584-ws-training.csv': 8.900699452532583,\n",
       " '567-ws-training.csv': 7.594278494327072,\n",
       " '596-ws-training.csv': 5.992518677717183,\n",
       " '552-ws-training.csv': 4.146463734305543,\n",
       " '544-ws-training.csv': 5.718122160673547,\n",
       " '540-ws-training.csv': 7.187775968080308}"
      ]
     },
     "execution_count": 4,
     "metadata": {},
     "output_type": "execute_result"
    },
    {
     "name": "stdout",
     "output_type": "stream",
     "text": [
      "time: 2.26 ms\n"
     ]
    }
   ],
   "source": [
    "rmse_list"
   ]
  },
  {
   "cell_type": "code",
   "execution_count": 5,
   "metadata": {},
   "outputs": [
    {
     "data": {
      "text/plain": [
       "{'584-ws-training.csv': 5.2534118147794615,\n",
       " '567-ws-training.csv': 3.7528450503997273,\n",
       " '596-ws-training.csv': 4.2468742673036495,\n",
       " '552-ws-training.csv': 3.0411161682097996,\n",
       " '544-ws-training.csv': 4.042229633240038,\n",
       " '540-ws-training.csv': 5.247398446162412}"
      ]
     },
     "execution_count": 5,
     "metadata": {},
     "output_type": "execute_result"
    },
    {
     "name": "stdout",
     "output_type": "stream",
     "text": [
      "time: 8.23 ms\n"
     ]
    }
   ],
   "source": [
    "mae_list"
   ]
  },
  {
   "cell_type": "code",
   "execution_count": 6,
   "metadata": {},
   "outputs": [
    {
     "name": "stdout",
     "output_type": "stream",
     "text": [
      "Mean - RMSE : 6.589976414606039\n",
      "Standard Deviation - RMSE : 1.5162051168255761\n",
      "Mean - MAE : 4.263979230015848\n",
      "Standard Deviation - MAE : 0.7908021112979168\n",
      "time: 7.38 ms\n"
     ]
    }
   ],
   "source": [
    "from statistics import pstdev, mean\n",
    "\n",
    "rmse_values = rmse_list.values()\n",
    "mae_values = mae_list.values()\n",
    "\n",
    "print ('Mean - RMSE : {}'.format(mean(rmse_values)))\n",
    "print ('Standard Deviation - RMSE : {}'.format(pstdev(rmse_values)))\n",
    "\n",
    "print ('Mean - MAE : {}'.format(mean(mae_values)))\n",
    "print ('Standard Deviation - MAE : {}'.format(pstdev(mae_values)))"
   ]
  },
  {
   "cell_type": "code",
   "execution_count": null,
   "metadata": {},
   "outputs": [],
   "source": []
  }
 ],
 "metadata": {
  "kernelspec": {
   "display_name": "Python 3",
   "language": "python",
   "name": "python3"
  },
  "language_info": {
   "codemirror_mode": {
    "name": "ipython",
    "version": 3
   },
   "file_extension": ".py",
   "mimetype": "text/x-python",
   "name": "python",
   "nbconvert_exporter": "python",
   "pygments_lexer": "ipython3",
   "version": "3.6.8"
  }
 },
 "nbformat": 4,
 "nbformat_minor": 2
}
