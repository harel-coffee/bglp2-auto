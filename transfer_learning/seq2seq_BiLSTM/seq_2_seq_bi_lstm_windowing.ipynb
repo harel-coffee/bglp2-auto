{
 "cells": [
  {
   "cell_type": "code",
   "execution_count": 1,
   "metadata": {},
   "outputs": [],
   "source": [
    "import os"
   ]
  },
  {
   "cell_type": "code",
   "execution_count": 2,
   "metadata": {},
   "outputs": [
    {
     "name": "stderr",
     "output_type": "stream",
     "text": [
      "Using TensorFlow backend.\n"
     ]
    }
   ],
   "source": [
    "import pandas as pd\n",
    "from numpy import nan\n",
    "from numpy import isnan\n",
    "import numpy as np\n",
    "from math import sqrt\n",
    "from numpy import split\n",
    "from numpy import array\n",
    "import sys\n",
    "from scipy.stats import randint\n",
    "import pandas as pd # data processing, CSV file I/O (e.g. pd.read_csv), data manipulation as in SQL\n",
    "import matplotlib.pyplot as plt # this is used for the plot the graph \n",
    "import seaborn as sns # used for plot interactive graph. \n",
    "from sklearn.model_selection import train_test_split, KFold # to split the data into two parts\n",
    "from sklearn.preprocessing import StandardScaler # for normalization\n",
    "from sklearn.preprocessing import MinMaxScaler\n",
    "from sklearn.pipeline import Pipeline # pipeline making\n",
    "from sklearn.model_selection import cross_val_score\n",
    "from sklearn.feature_selection import SelectFromModel\n",
    "from sklearn import metrics # for the check the error and accuracy of the model\n",
    "from sklearn.metrics import mean_squared_error, r2_score, mean_absolute_error\n",
    "\n",
    "\n",
    "#Deep learning specific\n",
    "\n",
    "import keras\n",
    "from keras import regularizers\n",
    "import itertools\n",
    "from keras.layers import Dense, Dropout, LSTM, Bidirectional, RepeatVector, TimeDistributed, Flatten, BatchNormalization\n",
    "from keras.models import Sequential, load_model\n",
    "from keras.utils import to_categorical\n",
    "from keras.optimizers import SGD, Adam\n",
    "from keras.callbacks import EarlyStopping\n",
    "from keras.utils import np_utils\n",
    "from keras.layers.convolutional import Conv1D\n",
    "from keras.layers.convolutional import MaxPooling1D\n",
    "from keras.layers import ConvLSTM2D"
   ]
  },
  {
   "cell_type": "code",
   "execution_count": 3,
   "metadata": {},
   "outputs": [],
   "source": [
    "plt.rcParams['figure.figsize'] = [90, 45]\n",
    "plt.rcParams['font.size'] = 40\n",
    "verbose, epochs, batch_size = 0, 100, 40\n",
    "cols_to_keep = ['gl_value', 'fs_value', 'basel_value', 'basis_gsr', 'basis_skin_temp', 'bolus_dose']"
   ]
  },
  {
   "cell_type": "code",
   "execution_count": 4,
   "metadata": {},
   "outputs": [],
   "source": [
    "def read_csv_file(filepath):\n",
    "    df = pd.read_csv(filepath, sep = ',', parse_dates = {'dt' : ['time']}, infer_datetime_format=True, \n",
    "                 low_memory = False, na_values=['nan'], index_col = 'dt')\n",
    "    df.drop(['gl_predict'], inplace = True, axis = 1)\n",
    "    return df"
   ]
  },
  {
   "cell_type": "code",
   "execution_count": 5,
   "metadata": {},
   "outputs": [],
   "source": [
    "csv_dir_path = os.path.abspath('../../5_min_complete_dataset/')\n",
    "csv_file_path = [os.path.join(csv_dir_path, item) for item in os.listdir(csv_dir_path)]"
   ]
  },
  {
   "cell_type": "code",
   "execution_count": 6,
   "metadata": {},
   "outputs": [],
   "source": [
    "def split_dataset(data, count):\n",
    "    train = data[0:count]\n",
    "    train = array(split(train, len(train)/12))\n",
    "    return train"
   ]
  },
  {
   "cell_type": "code",
   "execution_count": 7,
   "metadata": {},
   "outputs": [],
   "source": [
    "def to_supervised(train, n_input, n_out = 12):\n",
    "    data = train.reshape((train.shape[0]*train.shape[1], train.shape[2]))\n",
    "    X = []\n",
    "    y = []\n",
    "    in_start = 0\n",
    "    # step over the entire history one time step at a time\n",
    "    for _ in range(len(data)):\n",
    "        # define the end of the input sequence\n",
    "        in_end = in_start + n_input\n",
    "        out_end = in_end + n_out\n",
    "        # ensure we have enough data for this instance\n",
    "        if out_end <= len(data):\n",
    "            X.append(data[in_start:in_end, :])\n",
    "            y.append(data[in_end:out_end, 0])\n",
    "        # move along one time step\n",
    "        in_start += 1\n",
    "    return array(X), array(y)"
   ]
  },
  {
   "cell_type": "code",
   "execution_count": 8,
   "metadata": {},
   "outputs": [
    {
     "name": "stdout",
     "output_type": "stream",
     "text": [
      "Index(['gl_value', 'fs_value', 'basel_value', 'bolus_dose',\n",
      "       'bolus_type_normal', 'meal_carbs', 'meal_type_Breakfast',\n",
      "       'meal_type_Dinner', 'meal_type_Lunch', 'meal_type_Snack',\n",
      "       'sleep_quality', 'basis_gsr', 'basis_skin_temp', 'basis_sleep_quality',\n",
      "       'basis_sleep_type', 'acceleration_value'],\n",
      "      dtype='object')\n"
     ]
    },
    {
     "data": {
      "text/html": [
       "<div>\n",
       "<style scoped>\n",
       "    .dataframe tbody tr th:only-of-type {\n",
       "        vertical-align: middle;\n",
       "    }\n",
       "\n",
       "    .dataframe tbody tr th {\n",
       "        vertical-align: top;\n",
       "    }\n",
       "\n",
       "    .dataframe thead th {\n",
       "        text-align: right;\n",
       "    }\n",
       "</style>\n",
       "<table border=\"1\" class=\"dataframe\">\n",
       "  <thead>\n",
       "    <tr style=\"text-align: right;\">\n",
       "      <th></th>\n",
       "      <th>gl_value</th>\n",
       "      <th>fs_value</th>\n",
       "      <th>basel_value</th>\n",
       "      <th>basis_gsr</th>\n",
       "      <th>basis_skin_temp</th>\n",
       "      <th>bolus_dose</th>\n",
       "    </tr>\n",
       "    <tr>\n",
       "      <th>dt</th>\n",
       "      <th></th>\n",
       "      <th></th>\n",
       "      <th></th>\n",
       "      <th></th>\n",
       "      <th></th>\n",
       "      <th></th>\n",
       "    </tr>\n",
       "  </thead>\n",
       "  <tbody>\n",
       "    <tr>\n",
       "      <th>2026-12-28 00:00:00</th>\n",
       "      <td>72.0</td>\n",
       "      <td>106.0</td>\n",
       "      <td>0.85</td>\n",
       "      <td>0.021829</td>\n",
       "      <td>86.27</td>\n",
       "      <td>0.0</td>\n",
       "    </tr>\n",
       "    <tr>\n",
       "      <th>2026-12-28 00:05:00</th>\n",
       "      <td>71.0</td>\n",
       "      <td>106.0</td>\n",
       "      <td>0.85</td>\n",
       "      <td>0.021829</td>\n",
       "      <td>86.27</td>\n",
       "      <td>0.0</td>\n",
       "    </tr>\n",
       "    <tr>\n",
       "      <th>2026-12-28 00:10:00</th>\n",
       "      <td>71.0</td>\n",
       "      <td>106.0</td>\n",
       "      <td>0.85</td>\n",
       "      <td>0.021829</td>\n",
       "      <td>86.27</td>\n",
       "      <td>0.0</td>\n",
       "    </tr>\n",
       "    <tr>\n",
       "      <th>2026-12-28 00:15:00</th>\n",
       "      <td>71.0</td>\n",
       "      <td>106.0</td>\n",
       "      <td>0.85</td>\n",
       "      <td>0.021829</td>\n",
       "      <td>86.27</td>\n",
       "      <td>0.0</td>\n",
       "    </tr>\n",
       "    <tr>\n",
       "      <th>2026-12-28 00:20:00</th>\n",
       "      <td>71.0</td>\n",
       "      <td>106.0</td>\n",
       "      <td>0.85</td>\n",
       "      <td>0.021829</td>\n",
       "      <td>86.27</td>\n",
       "      <td>0.0</td>\n",
       "    </tr>\n",
       "  </tbody>\n",
       "</table>\n",
       "</div>"
      ],
      "text/plain": [
       "                     gl_value  fs_value  basel_value  basis_gsr  \\\n",
       "dt                                                                \n",
       "2026-12-28 00:00:00      72.0     106.0         0.85   0.021829   \n",
       "2026-12-28 00:05:00      71.0     106.0         0.85   0.021829   \n",
       "2026-12-28 00:10:00      71.0     106.0         0.85   0.021829   \n",
       "2026-12-28 00:15:00      71.0     106.0         0.85   0.021829   \n",
       "2026-12-28 00:20:00      71.0     106.0         0.85   0.021829   \n",
       "\n",
       "                     basis_skin_temp  bolus_dose  \n",
       "dt                                                \n",
       "2026-12-28 00:00:00            86.27         0.0  \n",
       "2026-12-28 00:05:00            86.27         0.0  \n",
       "2026-12-28 00:10:00            86.27         0.0  \n",
       "2026-12-28 00:15:00            86.27         0.0  \n",
       "2026-12-28 00:20:00            86.27         0.0  "
      ]
     },
     "metadata": {},
     "output_type": "display_data"
    },
    {
     "data": {
      "text/plain": [
       "(13535, 6)"
      ]
     },
     "metadata": {},
     "output_type": "display_data"
    }
   ],
   "source": [
    "file_name = csv_file_path[0].split('/')[-1].split('-')[0]\n",
    "df_567 = read_csv_file(csv_file_path[0])\n",
    "print(df_567.columns)\n",
    "df_567 = df_567[cols_to_keep]\n",
    "display(df_567.head())\n",
    "display(df_567.shape)"
   ]
  },
  {
   "cell_type": "code",
   "execution_count": 9,
   "metadata": {},
   "outputs": [],
   "source": [
    "df_567_values = df_567.values\n",
    "train_count = 13524\n",
    "n_input = 6\n",
    "train = split_dataset(df_567_values, train_count)"
   ]
  },
  {
   "cell_type": "code",
   "execution_count": 10,
   "metadata": {},
   "outputs": [
    {
     "data": {
      "text/plain": [
       "(1127, 12, 6)"
      ]
     },
     "execution_count": 10,
     "metadata": {},
     "output_type": "execute_result"
    }
   ],
   "source": [
    "train.shape"
   ]
  },
  {
   "cell_type": "code",
   "execution_count": 11,
   "metadata": {},
   "outputs": [
    {
     "name": "stdout",
     "output_type": "stream",
     "text": [
      "Train X : (13507, 6, 6)\n",
      "Train Y : (13507, 12)\n"
     ]
    }
   ],
   "source": [
    "train_x, train_y = to_supervised(train, n_input)\n",
    "print(\"Train X :\", train_x.shape)\n",
    "print(\"Train Y :\", train_y.shape)\n",
    "n_timesteps, n_features, n_outputs = train_x.shape[1], train_x.shape[2], train_y.shape[1]\n",
    "train_y = train_y.reshape((train_y.shape[0], train_y.shape[1], 1))"
   ]
  },
  {
   "cell_type": "code",
   "execution_count": 12,
   "metadata": {},
   "outputs": [],
   "source": [
    "model = Sequential()\n",
    "model.add(Bidirectional(LSTM(100, activation='relu', input_shape=(n_timesteps, n_features))))\n",
    "model.add(RepeatVector(n_outputs))\n",
    "model.add(Bidirectional(LSTM(100, activation = 'relu', return_sequences=True)))\n",
    "model.add(TimeDistributed(Dense(150, activation='relu')))\n",
    "model.add(TimeDistributed(Dense(1)))\n",
    "model.compile(loss='mse', optimizer = 'adam')\n",
    "model.fit(train_x, train_y, epochs = epochs, batch_size = batch_size, verbose = verbose)\n",
    "model.save('567.h5')"
   ]
  },
  {
   "cell_type": "code",
   "execution_count": 13,
   "metadata": {},
   "outputs": [
    {
     "name": "stdout",
     "output_type": "stream",
     "text": [
      "Index(['gl_value', 'fs_value', 'basel_value', 'bolus_dose', 'bwz_carb_input',\n",
      "       'bolus_type_normal', 'meal_carbs', 'meal_type_Breakfast',\n",
      "       'meal_type_Dinner', 'meal_type_HypoCorrection', 'meal_type_Lunch',\n",
      "       'meal_type_Snack', 'sleep_quality', 'work_intensity',\n",
      "       'exercise_intensity', 'exercise_duration', 'exercise_type',\n",
      "       'basis_heart_rate', 'basis_gsr', 'basis_skin_temp', 'basis_air_temp',\n",
      "       'basis_steps', 'basis_sleep_quality', 'basis_sleep_type'],\n",
      "      dtype='object')\n"
     ]
    },
    {
     "data": {
      "text/html": [
       "<div>\n",
       "<style scoped>\n",
       "    .dataframe tbody tr th:only-of-type {\n",
       "        vertical-align: middle;\n",
       "    }\n",
       "\n",
       "    .dataframe tbody tr th {\n",
       "        vertical-align: top;\n",
       "    }\n",
       "\n",
       "    .dataframe thead th {\n",
       "        text-align: right;\n",
       "    }\n",
       "</style>\n",
       "<table border=\"1\" class=\"dataframe\">\n",
       "  <thead>\n",
       "    <tr style=\"text-align: right;\">\n",
       "      <th></th>\n",
       "      <th>gl_value</th>\n",
       "      <th>fs_value</th>\n",
       "      <th>basel_value</th>\n",
       "      <th>basis_gsr</th>\n",
       "      <th>basis_skin_temp</th>\n",
       "      <th>bolus_dose</th>\n",
       "    </tr>\n",
       "    <tr>\n",
       "      <th>dt</th>\n",
       "      <th></th>\n",
       "      <th></th>\n",
       "      <th></th>\n",
       "      <th></th>\n",
       "      <th></th>\n",
       "      <th></th>\n",
       "    </tr>\n",
       "  </thead>\n",
       "  <tbody>\n",
       "    <tr>\n",
       "      <th>2021-09-13 12:30:00</th>\n",
       "      <td>219.0</td>\n",
       "      <td>169.0</td>\n",
       "      <td>0.7</td>\n",
       "      <td>0.000056</td>\n",
       "      <td>87.26</td>\n",
       "      <td>0.0</td>\n",
       "    </tr>\n",
       "    <tr>\n",
       "      <th>2021-09-13 12:35:00</th>\n",
       "      <td>229.0</td>\n",
       "      <td>169.0</td>\n",
       "      <td>0.7</td>\n",
       "      <td>0.000056</td>\n",
       "      <td>87.26</td>\n",
       "      <td>0.0</td>\n",
       "    </tr>\n",
       "    <tr>\n",
       "      <th>2021-09-13 12:40:00</th>\n",
       "      <td>224.0</td>\n",
       "      <td>169.0</td>\n",
       "      <td>0.7</td>\n",
       "      <td>0.000056</td>\n",
       "      <td>87.26</td>\n",
       "      <td>0.0</td>\n",
       "    </tr>\n",
       "    <tr>\n",
       "      <th>2021-09-13 12:45:00</th>\n",
       "      <td>221.0</td>\n",
       "      <td>169.0</td>\n",
       "      <td>0.7</td>\n",
       "      <td>0.000056</td>\n",
       "      <td>87.26</td>\n",
       "      <td>0.0</td>\n",
       "    </tr>\n",
       "    <tr>\n",
       "      <th>2021-09-13 12:50:00</th>\n",
       "      <td>215.0</td>\n",
       "      <td>169.0</td>\n",
       "      <td>0.7</td>\n",
       "      <td>0.000056</td>\n",
       "      <td>87.26</td>\n",
       "      <td>0.0</td>\n",
       "    </tr>\n",
       "  </tbody>\n",
       "</table>\n",
       "</div>"
      ],
      "text/plain": [
       "                     gl_value  fs_value  basel_value  basis_gsr  \\\n",
       "dt                                                                \n",
       "2021-09-13 12:30:00     219.0     169.0          0.7   0.000056   \n",
       "2021-09-13 12:35:00     229.0     169.0          0.7   0.000056   \n",
       "2021-09-13 12:40:00     224.0     169.0          0.7   0.000056   \n",
       "2021-09-13 12:45:00     221.0     169.0          0.7   0.000056   \n",
       "2021-09-13 12:50:00     215.0     169.0          0.7   0.000056   \n",
       "\n",
       "                     basis_skin_temp  bolus_dose  \n",
       "dt                                                \n",
       "2021-09-13 12:30:00            87.26         0.0  \n",
       "2021-09-13 12:35:00            87.26         0.0  \n",
       "2021-09-13 12:40:00            87.26         0.0  \n",
       "2021-09-13 12:45:00            87.26         0.0  \n",
       "2021-09-13 12:50:00            87.26         0.0  "
      ]
     },
     "metadata": {},
     "output_type": "display_data"
    },
    {
     "data": {
      "text/plain": [
       "(13097, 6)"
      ]
     },
     "metadata": {},
     "output_type": "display_data"
    }
   ],
   "source": [
    "file_name = csv_file_path[1].split('/')[-1].split('-')[0]\n",
    "df_563 = read_csv_file(csv_file_path[1])\n",
    "print(df_563.columns)\n",
    "df_563 = df_563[cols_to_keep]\n",
    "display(df_563.head())\n",
    "display(df_563.shape)"
   ]
  },
  {
   "cell_type": "code",
   "execution_count": 14,
   "metadata": {},
   "outputs": [],
   "source": [
    "df_563_values = df_563.values\n",
    "train_count = 13092\n",
    "n_input = 6\n",
    "train = split_dataset(df_563_values, train_count)"
   ]
  },
  {
   "cell_type": "code",
   "execution_count": 15,
   "metadata": {},
   "outputs": [
    {
     "data": {
      "text/plain": [
       "(1091, 12, 6)"
      ]
     },
     "execution_count": 15,
     "metadata": {},
     "output_type": "execute_result"
    }
   ],
   "source": [
    "train.shape"
   ]
  },
  {
   "cell_type": "code",
   "execution_count": 16,
   "metadata": {},
   "outputs": [
    {
     "name": "stdout",
     "output_type": "stream",
     "text": [
      "Train X : (13075, 6, 6)\n",
      "Train Y : (13075, 12)\n"
     ]
    }
   ],
   "source": [
    "train_x, train_y = to_supervised(train, n_input)\n",
    "print(\"Train X :\", train_x.shape)\n",
    "print(\"Train Y :\", train_y.shape)\n",
    "n_timesteps, n_features, n_outputs = train_x.shape[1], train_x.shape[2], train_y.shape[1]\n",
    "train_y = train_y.reshape((train_y.shape[0], train_y.shape[1], 1))"
   ]
  },
  {
   "cell_type": "code",
   "execution_count": 17,
   "metadata": {},
   "outputs": [],
   "source": [
    "model = load_model('567.h5')"
   ]
  },
  {
   "cell_type": "code",
   "execution_count": 18,
   "metadata": {},
   "outputs": [
    {
     "data": {
      "text/plain": [
       "<keras.callbacks.callbacks.History at 0x7f0dc4734d30>"
      ]
     },
     "execution_count": 18,
     "metadata": {},
     "output_type": "execute_result"
    }
   ],
   "source": [
    "model.fit(train_x, train_y, epochs = epochs, batch_size = batch_size, verbose = verbose)"
   ]
  },
  {
   "cell_type": "code",
   "execution_count": 19,
   "metadata": {},
   "outputs": [],
   "source": [
    "model.save('563.h5')"
   ]
  },
  {
   "cell_type": "code",
   "execution_count": 20,
   "metadata": {},
   "outputs": [
    {
     "name": "stdout",
     "output_type": "stream",
     "text": [
      "Index(['gl_value', 'fs_value', 'basel_value', 'bolus_dose',\n",
      "       'bolus_type_normal', 'bolus_type_normal_dual', 'bolus_type_square_dual',\n",
      "       'meal_carbs', 'meal_type_Breakfast', 'meal_type_Dinner',\n",
      "       'meal_type_Lunch', 'meal_type_Snack', 'basis_gsr', 'basis_skin_temp',\n",
      "       'basis_sleep_quality', 'basis_sleep_type', 'acceleration_value'],\n",
      "      dtype='object')\n"
     ]
    },
    {
     "data": {
      "text/html": [
       "<div>\n",
       "<style scoped>\n",
       "    .dataframe tbody tr th:only-of-type {\n",
       "        vertical-align: middle;\n",
       "    }\n",
       "\n",
       "    .dataframe tbody tr th {\n",
       "        vertical-align: top;\n",
       "    }\n",
       "\n",
       "    .dataframe thead th {\n",
       "        text-align: right;\n",
       "    }\n",
       "</style>\n",
       "<table border=\"1\" class=\"dataframe\">\n",
       "  <thead>\n",
       "    <tr style=\"text-align: right;\">\n",
       "      <th></th>\n",
       "      <th>gl_value</th>\n",
       "      <th>fs_value</th>\n",
       "      <th>basel_value</th>\n",
       "      <th>basis_gsr</th>\n",
       "      <th>basis_skin_temp</th>\n",
       "      <th>bolus_dose</th>\n",
       "    </tr>\n",
       "    <tr>\n",
       "      <th>dt</th>\n",
       "      <th></th>\n",
       "      <th></th>\n",
       "      <th></th>\n",
       "      <th></th>\n",
       "      <th></th>\n",
       "      <th></th>\n",
       "    </tr>\n",
       "  </thead>\n",
       "  <tbody>\n",
       "    <tr>\n",
       "      <th>2027-05-19 11:30:00</th>\n",
       "      <td>76.0</td>\n",
       "      <td>80.0</td>\n",
       "      <td>1.9</td>\n",
       "      <td>0.296412</td>\n",
       "      <td>87.698</td>\n",
       "      <td>0.0</td>\n",
       "    </tr>\n",
       "    <tr>\n",
       "      <th>2027-05-19 11:35:00</th>\n",
       "      <td>76.0</td>\n",
       "      <td>80.0</td>\n",
       "      <td>1.9</td>\n",
       "      <td>0.329391</td>\n",
       "      <td>87.000</td>\n",
       "      <td>0.0</td>\n",
       "    </tr>\n",
       "    <tr>\n",
       "      <th>2027-05-19 11:40:00</th>\n",
       "      <td>72.0</td>\n",
       "      <td>80.0</td>\n",
       "      <td>1.9</td>\n",
       "      <td>0.329795</td>\n",
       "      <td>86.390</td>\n",
       "      <td>0.0</td>\n",
       "    </tr>\n",
       "    <tr>\n",
       "      <th>2027-05-19 11:45:00</th>\n",
       "      <td>68.0</td>\n",
       "      <td>80.0</td>\n",
       "      <td>1.9</td>\n",
       "      <td>0.326392</td>\n",
       "      <td>86.536</td>\n",
       "      <td>0.0</td>\n",
       "    </tr>\n",
       "    <tr>\n",
       "      <th>2027-05-19 11:50:00</th>\n",
       "      <td>65.0</td>\n",
       "      <td>80.0</td>\n",
       "      <td>1.9</td>\n",
       "      <td>0.355854</td>\n",
       "      <td>87.274</td>\n",
       "      <td>0.0</td>\n",
       "    </tr>\n",
       "  </tbody>\n",
       "</table>\n",
       "</div>"
      ],
      "text/plain": [
       "                     gl_value  fs_value  basel_value  basis_gsr  \\\n",
       "dt                                                                \n",
       "2027-05-19 11:30:00      76.0      80.0          1.9   0.296412   \n",
       "2027-05-19 11:35:00      76.0      80.0          1.9   0.329391   \n",
       "2027-05-19 11:40:00      72.0      80.0          1.9   0.329795   \n",
       "2027-05-19 11:45:00      68.0      80.0          1.9   0.326392   \n",
       "2027-05-19 11:50:00      65.0      80.0          1.9   0.355854   \n",
       "\n",
       "                     basis_skin_temp  bolus_dose  \n",
       "dt                                                \n",
       "2027-05-19 11:30:00           87.698         0.0  \n",
       "2027-05-19 11:35:00           87.000         0.0  \n",
       "2027-05-19 11:40:00           86.390         0.0  \n",
       "2027-05-19 11:45:00           86.536         0.0  \n",
       "2027-05-19 11:50:00           87.274         0.0  "
      ]
     },
     "metadata": {},
     "output_type": "display_data"
    },
    {
     "data": {
      "text/plain": [
       "(13104, 6)"
      ]
     },
     "metadata": {},
     "output_type": "display_data"
    }
   ],
   "source": [
    "file_name = csv_file_path[2].split('/')[-1].split('-')[0]\n",
    "df_540 = read_csv_file(csv_file_path[2])\n",
    "print(df_540.columns)\n",
    "df_540 = df_540[cols_to_keep]\n",
    "display(df_540.head())\n",
    "display(df_540.shape)"
   ]
  },
  {
   "cell_type": "code",
   "execution_count": 21,
   "metadata": {},
   "outputs": [],
   "source": [
    "df_540_values = df_540.values\n",
    "train_count = 13104\n",
    "n_input = 6\n",
    "train = split_dataset(df_540_values, train_count)"
   ]
  },
  {
   "cell_type": "code",
   "execution_count": 22,
   "metadata": {},
   "outputs": [
    {
     "data": {
      "text/plain": [
       "(1092, 12, 6)"
      ]
     },
     "execution_count": 22,
     "metadata": {},
     "output_type": "execute_result"
    }
   ],
   "source": [
    "train.shape"
   ]
  },
  {
   "cell_type": "code",
   "execution_count": 23,
   "metadata": {},
   "outputs": [
    {
     "name": "stdout",
     "output_type": "stream",
     "text": [
      "Train X : (13087, 6, 6)\n",
      "Train Y : (13087, 12)\n"
     ]
    }
   ],
   "source": [
    "train_x, train_y = to_supervised(train, n_input)\n",
    "print(\"Train X :\", train_x.shape)\n",
    "print(\"Train Y :\", train_y.shape)\n",
    "n_timesteps, n_features, n_outputs = train_x.shape[1], train_x.shape[2], train_y.shape[1]\n",
    "train_y = train_y.reshape((train_y.shape[0], train_y.shape[1], 1))"
   ]
  },
  {
   "cell_type": "code",
   "execution_count": 24,
   "metadata": {},
   "outputs": [],
   "source": [
    "model = load_model('563.h5')"
   ]
  },
  {
   "cell_type": "code",
   "execution_count": 25,
   "metadata": {},
   "outputs": [
    {
     "data": {
      "text/plain": [
       "<keras.callbacks.callbacks.History at 0x7f0d2c012cc0>"
      ]
     },
     "execution_count": 25,
     "metadata": {},
     "output_type": "execute_result"
    }
   ],
   "source": [
    "model.fit(train_x, train_y, epochs = epochs, batch_size = batch_size, verbose = verbose)"
   ]
  },
  {
   "cell_type": "code",
   "execution_count": 26,
   "metadata": {},
   "outputs": [],
   "source": [
    "model.save('540.h5')"
   ]
  },
  {
   "cell_type": "code",
   "execution_count": 27,
   "metadata": {},
   "outputs": [
    {
     "name": "stdout",
     "output_type": "stream",
     "text": [
      "Index(['gl_value', 'fs_value', 'basel_value', 'bolus_dose', 'bwz_carb_input',\n",
      "       'bolus_type_normal', 'bolus_type_normal_dual', 'bolus_type_square_dual',\n",
      "       'meal_carbs', 'meal_type_Breakfast', 'meal_type_Dinner',\n",
      "       'meal_type_HypoCorrection', 'meal_type_Lunch', 'meal_type_Snack',\n",
      "       'sleep_quality', 'work_intensity', 'exercise_intensity',\n",
      "       'exercise_duration', 'exercise_type', 'basis_heart_rate', 'basis_gsr',\n",
      "       'basis_skin_temp', 'basis_air_temp', 'basis_steps',\n",
      "       'basis_sleep_quality', 'basis_sleep_type'],\n",
      "      dtype='object')\n"
     ]
    },
    {
     "data": {
      "text/html": [
       "<div>\n",
       "<style scoped>\n",
       "    .dataframe tbody tr th:only-of-type {\n",
       "        vertical-align: middle;\n",
       "    }\n",
       "\n",
       "    .dataframe tbody tr th {\n",
       "        vertical-align: top;\n",
       "    }\n",
       "\n",
       "    .dataframe thead th {\n",
       "        text-align: right;\n",
       "    }\n",
       "</style>\n",
       "<table border=\"1\" class=\"dataframe\">\n",
       "  <thead>\n",
       "    <tr style=\"text-align: right;\">\n",
       "      <th></th>\n",
       "      <th>gl_value</th>\n",
       "      <th>fs_value</th>\n",
       "      <th>basel_value</th>\n",
       "      <th>basis_gsr</th>\n",
       "      <th>basis_skin_temp</th>\n",
       "      <th>bolus_dose</th>\n",
       "    </tr>\n",
       "    <tr>\n",
       "      <th>dt</th>\n",
       "      <th></th>\n",
       "      <th></th>\n",
       "      <th></th>\n",
       "      <th></th>\n",
       "      <th></th>\n",
       "      <th></th>\n",
       "    </tr>\n",
       "  </thead>\n",
       "  <tbody>\n",
       "    <tr>\n",
       "      <th>2021-12-07 16:25:00</th>\n",
       "      <td>101.0</td>\n",
       "      <td>95.0</td>\n",
       "      <td>0.9</td>\n",
       "      <td>0.000049</td>\n",
       "      <td>82.58</td>\n",
       "      <td>0.0</td>\n",
       "    </tr>\n",
       "    <tr>\n",
       "      <th>2021-12-07 16:30:00</th>\n",
       "      <td>100.0</td>\n",
       "      <td>95.0</td>\n",
       "      <td>0.9</td>\n",
       "      <td>0.000049</td>\n",
       "      <td>82.58</td>\n",
       "      <td>0.0</td>\n",
       "    </tr>\n",
       "    <tr>\n",
       "      <th>2021-12-07 16:35:00</th>\n",
       "      <td>100.0</td>\n",
       "      <td>95.0</td>\n",
       "      <td>0.9</td>\n",
       "      <td>0.000049</td>\n",
       "      <td>82.58</td>\n",
       "      <td>0.0</td>\n",
       "    </tr>\n",
       "    <tr>\n",
       "      <th>2021-12-07 16:40:00</th>\n",
       "      <td>99.0</td>\n",
       "      <td>95.0</td>\n",
       "      <td>0.9</td>\n",
       "      <td>0.000049</td>\n",
       "      <td>82.58</td>\n",
       "      <td>0.0</td>\n",
       "    </tr>\n",
       "    <tr>\n",
       "      <th>2021-12-07 16:45:00</th>\n",
       "      <td>98.0</td>\n",
       "      <td>95.0</td>\n",
       "      <td>0.9</td>\n",
       "      <td>0.000049</td>\n",
       "      <td>82.58</td>\n",
       "      <td>0.0</td>\n",
       "    </tr>\n",
       "  </tbody>\n",
       "</table>\n",
       "</div>"
      ],
      "text/plain": [
       "                     gl_value  fs_value  basel_value  basis_gsr  \\\n",
       "dt                                                                \n",
       "2021-12-07 16:25:00     101.0      95.0          0.9   0.000049   \n",
       "2021-12-07 16:30:00     100.0      95.0          0.9   0.000049   \n",
       "2021-12-07 16:35:00     100.0      95.0          0.9   0.000049   \n",
       "2021-12-07 16:40:00      99.0      95.0          0.9   0.000049   \n",
       "2021-12-07 16:45:00      98.0      95.0          0.9   0.000049   \n",
       "\n",
       "                     basis_skin_temp  bolus_dose  \n",
       "dt                                                \n",
       "2021-12-07 16:25:00            82.58         0.0  \n",
       "2021-12-07 16:30:00            82.58         0.0  \n",
       "2021-12-07 16:35:00            82.58         0.0  \n",
       "2021-12-07 16:40:00            82.58         0.0  \n",
       "2021-12-07 16:45:00            82.58         0.0  "
      ]
     },
     "metadata": {},
     "output_type": "display_data"
    },
    {
     "data": {
      "text/plain": [
       "(11610, 6)"
      ]
     },
     "metadata": {},
     "output_type": "display_data"
    }
   ],
   "source": [
    "file_name = csv_file_path[3].split('/')[-1].split('-')[0]\n",
    "df_570 = read_csv_file(csv_file_path[3])\n",
    "print(df_570.columns)\n",
    "df_570 = df_570[cols_to_keep]\n",
    "display(df_570.head())\n",
    "display(df_570.shape)"
   ]
  },
  {
   "cell_type": "code",
   "execution_count": 28,
   "metadata": {},
   "outputs": [],
   "source": [
    "df_570_values = df_570.values\n",
    "train_count = 11604\n",
    "n_input = 6\n",
    "train = split_dataset(df_570_values, train_count)"
   ]
  },
  {
   "cell_type": "code",
   "execution_count": 29,
   "metadata": {},
   "outputs": [
    {
     "data": {
      "text/plain": [
       "(967, 12, 6)"
      ]
     },
     "execution_count": 29,
     "metadata": {},
     "output_type": "execute_result"
    }
   ],
   "source": [
    "train.shape"
   ]
  },
  {
   "cell_type": "code",
   "execution_count": 30,
   "metadata": {},
   "outputs": [
    {
     "name": "stdout",
     "output_type": "stream",
     "text": [
      "Train X : (11587, 6, 6)\n",
      "Train Y : (11587, 12)\n"
     ]
    }
   ],
   "source": [
    "train_x, train_y = to_supervised(train, n_input)\n",
    "print(\"Train X :\", train_x.shape)\n",
    "print(\"Train Y :\", train_y.shape)\n",
    "n_timesteps, n_features, n_outputs = train_x.shape[1], train_x.shape[2], train_y.shape[1]\n",
    "train_y = train_y.reshape((train_y.shape[0], train_y.shape[1], 1))"
   ]
  },
  {
   "cell_type": "code",
   "execution_count": 31,
   "metadata": {},
   "outputs": [],
   "source": [
    "model = load_model('540.h5')"
   ]
  },
  {
   "cell_type": "code",
   "execution_count": 32,
   "metadata": {},
   "outputs": [
    {
     "data": {
      "text/plain": [
       "<keras.callbacks.callbacks.History at 0x7f0cc0217a58>"
      ]
     },
     "execution_count": 32,
     "metadata": {},
     "output_type": "execute_result"
    }
   ],
   "source": [
    "model.fit(train_x, train_y, epochs = epochs, batch_size = batch_size, verbose = verbose)"
   ]
  },
  {
   "cell_type": "code",
   "execution_count": 33,
   "metadata": {},
   "outputs": [],
   "source": [
    "model.save('570.h5')"
   ]
  },
  {
   "cell_type": "code",
   "execution_count": 34,
   "metadata": {},
   "outputs": [
    {
     "name": "stdout",
     "output_type": "stream",
     "text": [
      "Index(['gl_value', 'fs_value', 'basel_value', 'bolus_dose', 'bwz_carb_input',\n",
      "       'bolus_type_normal', 'meal_carbs', 'meal_type_Breakfast',\n",
      "       'meal_type_Dinner', 'meal_type_HypoCorrection', 'meal_type_Lunch',\n",
      "       'meal_type_Snack', 'sleep_quality', 'work_intensity',\n",
      "       'exercise_intensity', 'exercise_duration', 'exercise_type',\n",
      "       'basis_heart_rate', 'basis_gsr', 'basis_skin_temp', 'basis_air_temp',\n",
      "       'basis_steps', 'basis_sleep_quality', 'basis_sleep_type'],\n",
      "      dtype='object')\n"
     ]
    },
    {
     "data": {
      "text/html": [
       "<div>\n",
       "<style scoped>\n",
       "    .dataframe tbody tr th:only-of-type {\n",
       "        vertical-align: middle;\n",
       "    }\n",
       "\n",
       "    .dataframe tbody tr th {\n",
       "        vertical-align: top;\n",
       "    }\n",
       "\n",
       "    .dataframe thead th {\n",
       "        text-align: right;\n",
       "    }\n",
       "</style>\n",
       "<table border=\"1\" class=\"dataframe\">\n",
       "  <thead>\n",
       "    <tr style=\"text-align: right;\">\n",
       "      <th></th>\n",
       "      <th>gl_value</th>\n",
       "      <th>fs_value</th>\n",
       "      <th>basel_value</th>\n",
       "      <th>basis_gsr</th>\n",
       "      <th>basis_skin_temp</th>\n",
       "      <th>bolus_dose</th>\n",
       "    </tr>\n",
       "    <tr>\n",
       "      <th>dt</th>\n",
       "      <th></th>\n",
       "      <th></th>\n",
       "      <th></th>\n",
       "      <th></th>\n",
       "      <th></th>\n",
       "      <th></th>\n",
       "    </tr>\n",
       "  </thead>\n",
       "  <tbody>\n",
       "    <tr>\n",
       "      <th>2021-12-07 01:15:00</th>\n",
       "      <td>101.0</td>\n",
       "      <td>191.0</td>\n",
       "      <td>0.73</td>\n",
       "      <td>0.000087</td>\n",
       "      <td>84.92</td>\n",
       "      <td>0.0</td>\n",
       "    </tr>\n",
       "    <tr>\n",
       "      <th>2021-12-07 01:20:00</th>\n",
       "      <td>98.0</td>\n",
       "      <td>191.0</td>\n",
       "      <td>0.73</td>\n",
       "      <td>0.000087</td>\n",
       "      <td>84.92</td>\n",
       "      <td>0.0</td>\n",
       "    </tr>\n",
       "    <tr>\n",
       "      <th>2021-12-07 01:25:00</th>\n",
       "      <td>104.0</td>\n",
       "      <td>191.0</td>\n",
       "      <td>0.73</td>\n",
       "      <td>0.000087</td>\n",
       "      <td>84.92</td>\n",
       "      <td>0.0</td>\n",
       "    </tr>\n",
       "    <tr>\n",
       "      <th>2021-12-07 01:30:00</th>\n",
       "      <td>112.0</td>\n",
       "      <td>191.0</td>\n",
       "      <td>0.73</td>\n",
       "      <td>0.000087</td>\n",
       "      <td>84.92</td>\n",
       "      <td>0.0</td>\n",
       "    </tr>\n",
       "    <tr>\n",
       "      <th>2021-12-07 01:35:00</th>\n",
       "      <td>120.0</td>\n",
       "      <td>191.0</td>\n",
       "      <td>0.73</td>\n",
       "      <td>0.000087</td>\n",
       "      <td>84.92</td>\n",
       "      <td>0.0</td>\n",
       "    </tr>\n",
       "  </tbody>\n",
       "</table>\n",
       "</div>"
      ],
      "text/plain": [
       "                     gl_value  fs_value  basel_value  basis_gsr  \\\n",
       "dt                                                                \n",
       "2021-12-07 01:15:00     101.0     191.0         0.73   0.000087   \n",
       "2021-12-07 01:20:00      98.0     191.0         0.73   0.000087   \n",
       "2021-12-07 01:25:00     104.0     191.0         0.73   0.000087   \n",
       "2021-12-07 01:30:00     112.0     191.0         0.73   0.000087   \n",
       "2021-12-07 01:35:00     120.0     191.0         0.73   0.000087   \n",
       "\n",
       "                     basis_skin_temp  bolus_dose  \n",
       "dt                                                \n",
       "2021-12-07 01:15:00            84.92         0.0  \n",
       "2021-12-07 01:20:00            84.92         0.0  \n",
       "2021-12-07 01:25:00            84.92         0.0  \n",
       "2021-12-07 01:30:00            84.92         0.0  \n",
       "2021-12-07 01:35:00            84.92         0.0  "
      ]
     },
     "metadata": {},
     "output_type": "display_data"
    },
    {
     "data": {
      "text/plain": [
       "(12080, 6)"
      ]
     },
     "metadata": {},
     "output_type": "display_data"
    }
   ],
   "source": [
    "file_name = csv_file_path[4].split('/')[-1].split('-')[0]\n",
    "df_559 = read_csv_file(csv_file_path[4])\n",
    "print(df_559.columns)\n",
    "df_559 = df_559[cols_to_keep]\n",
    "display(df_559.head())\n",
    "display(df_559.shape)"
   ]
  },
  {
   "cell_type": "code",
   "execution_count": 35,
   "metadata": {},
   "outputs": [],
   "source": [
    "df_559_values = df_559.values\n",
    "train_count = 12072\n",
    "n_input = 6\n",
    "train = split_dataset(df_559_values, train_count)"
   ]
  },
  {
   "cell_type": "code",
   "execution_count": 36,
   "metadata": {},
   "outputs": [
    {
     "data": {
      "text/plain": [
       "(1006, 12, 6)"
      ]
     },
     "execution_count": 36,
     "metadata": {},
     "output_type": "execute_result"
    }
   ],
   "source": [
    "train.shape"
   ]
  },
  {
   "cell_type": "code",
   "execution_count": 37,
   "metadata": {},
   "outputs": [
    {
     "name": "stdout",
     "output_type": "stream",
     "text": [
      "Train X : (12055, 6, 6)\n",
      "Train Y : (12055, 12)\n"
     ]
    }
   ],
   "source": [
    "train_x, train_y = to_supervised(train, n_input)\n",
    "print(\"Train X :\", train_x.shape)\n",
    "print(\"Train Y :\", train_y.shape)\n",
    "n_timesteps, n_features, n_outputs = train_x.shape[1], train_x.shape[2], train_y.shape[1]\n",
    "train_y = train_y.reshape((train_y.shape[0], train_y.shape[1], 1))"
   ]
  },
  {
   "cell_type": "code",
   "execution_count": 38,
   "metadata": {},
   "outputs": [],
   "source": [
    "model = load_model('570.h5')"
   ]
  },
  {
   "cell_type": "code",
   "execution_count": 39,
   "metadata": {},
   "outputs": [
    {
     "data": {
      "text/plain": [
       "<keras.callbacks.callbacks.History at 0x7f0cc83e32b0>"
      ]
     },
     "execution_count": 39,
     "metadata": {},
     "output_type": "execute_result"
    }
   ],
   "source": [
    "model.fit(train_x, train_y, epochs = epochs, batch_size = batch_size, verbose = verbose)"
   ]
  },
  {
   "cell_type": "code",
   "execution_count": 40,
   "metadata": {},
   "outputs": [],
   "source": [
    "model.save('559.h5')"
   ]
  },
  {
   "cell_type": "code",
   "execution_count": 41,
   "metadata": {},
   "outputs": [
    {
     "name": "stdout",
     "output_type": "stream",
     "text": [
      "Index(['gl_value', 'fs_value', 'basel_value', 'bolus_dose', 'bwz_carb_input',\n",
      "       'bolus_type_normal', 'bolus_type_normal_dual', 'bolus_type_square',\n",
      "       'bolus_type_square_dual', 'meal_carbs', 'meal_type_Breakfast',\n",
      "       'meal_type_Dinner', 'meal_type_HypoCorrection', 'meal_type_Lunch',\n",
      "       'meal_type_Snack', 'sleep_quality', 'work_intensity',\n",
      "       'exercise_intensity', 'exercise_duration', 'exercise_type',\n",
      "       'basis_heart_rate', 'basis_gsr', 'basis_skin_temp', 'basis_air_temp',\n",
      "       'basis_steps', 'basis_sleep_quality', 'basis_sleep_type'],\n",
      "      dtype='object')\n"
     ]
    },
    {
     "data": {
      "text/html": [
       "<div>\n",
       "<style scoped>\n",
       "    .dataframe tbody tr th:only-of-type {\n",
       "        vertical-align: middle;\n",
       "    }\n",
       "\n",
       "    .dataframe tbody tr th {\n",
       "        vertical-align: top;\n",
       "    }\n",
       "\n",
       "    .dataframe thead th {\n",
       "        text-align: right;\n",
       "    }\n",
       "</style>\n",
       "<table border=\"1\" class=\"dataframe\">\n",
       "  <thead>\n",
       "    <tr style=\"text-align: right;\">\n",
       "      <th></th>\n",
       "      <th>gl_value</th>\n",
       "      <th>fs_value</th>\n",
       "      <th>basel_value</th>\n",
       "      <th>basis_gsr</th>\n",
       "      <th>basis_skin_temp</th>\n",
       "      <th>bolus_dose</th>\n",
       "    </tr>\n",
       "    <tr>\n",
       "      <th>dt</th>\n",
       "      <th></th>\n",
       "      <th></th>\n",
       "      <th></th>\n",
       "      <th></th>\n",
       "      <th></th>\n",
       "      <th></th>\n",
       "    </tr>\n",
       "  </thead>\n",
       "  <tbody>\n",
       "    <tr>\n",
       "      <th>2021-11-17 12:00:00</th>\n",
       "      <td>128.0</td>\n",
       "      <td>104.0</td>\n",
       "      <td>0.5</td>\n",
       "      <td>0.000098</td>\n",
       "      <td>86.00</td>\n",
       "      <td>0.0</td>\n",
       "    </tr>\n",
       "    <tr>\n",
       "      <th>2021-11-17 12:05:00</th>\n",
       "      <td>123.0</td>\n",
       "      <td>104.0</td>\n",
       "      <td>0.5</td>\n",
       "      <td>0.000103</td>\n",
       "      <td>86.18</td>\n",
       "      <td>0.0</td>\n",
       "    </tr>\n",
       "    <tr>\n",
       "      <th>2021-11-17 12:10:00</th>\n",
       "      <td>120.0</td>\n",
       "      <td>104.0</td>\n",
       "      <td>0.5</td>\n",
       "      <td>0.000096</td>\n",
       "      <td>86.90</td>\n",
       "      <td>0.0</td>\n",
       "    </tr>\n",
       "    <tr>\n",
       "      <th>2021-11-17 12:15:00</th>\n",
       "      <td>124.0</td>\n",
       "      <td>104.0</td>\n",
       "      <td>0.5</td>\n",
       "      <td>0.000094</td>\n",
       "      <td>85.64</td>\n",
       "      <td>0.0</td>\n",
       "    </tr>\n",
       "    <tr>\n",
       "      <th>2021-11-17 12:20:00</th>\n",
       "      <td>121.0</td>\n",
       "      <td>104.0</td>\n",
       "      <td>0.5</td>\n",
       "      <td>0.000096</td>\n",
       "      <td>85.82</td>\n",
       "      <td>0.0</td>\n",
       "    </tr>\n",
       "  </tbody>\n",
       "</table>\n",
       "</div>"
      ],
      "text/plain": [
       "                     gl_value  fs_value  basel_value  basis_gsr  \\\n",
       "dt                                                                \n",
       "2021-11-17 12:00:00     128.0     104.0          0.5   0.000098   \n",
       "2021-11-17 12:05:00     123.0     104.0          0.5   0.000103   \n",
       "2021-11-17 12:10:00     120.0     104.0          0.5   0.000096   \n",
       "2021-11-17 12:15:00     124.0     104.0          0.5   0.000094   \n",
       "2021-11-17 12:20:00     121.0     104.0          0.5   0.000096   \n",
       "\n",
       "                     basis_skin_temp  bolus_dose  \n",
       "dt                                                \n",
       "2021-11-17 12:00:00            86.00         0.0  \n",
       "2021-11-17 12:05:00            86.18         0.0  \n",
       "2021-11-17 12:10:00            86.90         0.0  \n",
       "2021-11-17 12:15:00            85.64         0.0  \n",
       "2021-11-17 12:20:00            85.82         0.0  "
      ]
     },
     "metadata": {},
     "output_type": "display_data"
    },
    {
     "data": {
      "text/plain": [
       "(13103, 6)"
      ]
     },
     "metadata": {},
     "output_type": "display_data"
    }
   ],
   "source": [
    "file_name = csv_file_path[5].split('/')[-1].split('-')[0]\n",
    "df_575 = read_csv_file(csv_file_path[5])\n",
    "print(df_575.columns)\n",
    "df_575 = df_575[cols_to_keep]\n",
    "display(df_575.head())\n",
    "display(df_575.shape)"
   ]
  },
  {
   "cell_type": "code",
   "execution_count": 42,
   "metadata": {},
   "outputs": [],
   "source": [
    "df_575_values = df_575.values\n",
    "train_count = 13092\n",
    "n_input = 6\n",
    "train = split_dataset(df_575_values, train_count)"
   ]
  },
  {
   "cell_type": "code",
   "execution_count": 43,
   "metadata": {},
   "outputs": [
    {
     "data": {
      "text/plain": [
       "(1091, 12, 6)"
      ]
     },
     "execution_count": 43,
     "metadata": {},
     "output_type": "execute_result"
    }
   ],
   "source": [
    "train.shape"
   ]
  },
  {
   "cell_type": "code",
   "execution_count": 44,
   "metadata": {},
   "outputs": [
    {
     "name": "stdout",
     "output_type": "stream",
     "text": [
      "Train X : (13075, 6, 6)\n",
      "Train Y : (13075, 12)\n"
     ]
    }
   ],
   "source": [
    "train_x, train_y = to_supervised(train, n_input)\n",
    "print(\"Train X :\", train_x.shape)\n",
    "print(\"Train Y :\", train_y.shape)\n",
    "n_timesteps, n_features, n_outputs = train_x.shape[1], train_x.shape[2], train_y.shape[1]\n",
    "train_y = train_y.reshape((train_y.shape[0], train_y.shape[1], 1))"
   ]
  },
  {
   "cell_type": "code",
   "execution_count": 45,
   "metadata": {},
   "outputs": [],
   "source": [
    "model = load_model('559.h5')"
   ]
  },
  {
   "cell_type": "code",
   "execution_count": 46,
   "metadata": {},
   "outputs": [
    {
     "data": {
      "text/plain": [
       "<keras.callbacks.callbacks.History at 0x7f0c643cd400>"
      ]
     },
     "execution_count": 46,
     "metadata": {},
     "output_type": "execute_result"
    }
   ],
   "source": [
    "model.fit(train_x, train_y, epochs = epochs, batch_size = batch_size, verbose = verbose)"
   ]
  },
  {
   "cell_type": "code",
   "execution_count": 47,
   "metadata": {},
   "outputs": [],
   "source": [
    "model.save('575.h5')"
   ]
  },
  {
   "cell_type": "code",
   "execution_count": 48,
   "metadata": {},
   "outputs": [
    {
     "name": "stdout",
     "output_type": "stream",
     "text": [
      "Index(['gl_value', 'fs_value', 'basel_value', 'bolus_dose',\n",
      "       'bolus_type_normal', 'bolus_type_square', 'meal_carbs',\n",
      "       'meal_type_Breakfast', 'meal_type_Dinner', 'meal_type_HypoCorrection',\n",
      "       'meal_type_Lunch', 'meal_type_Snack', 'sleep_quality', 'work_intensity',\n",
      "       'exercise_intensity', 'exercise_duration', 'exercise_type', 'basis_gsr',\n",
      "       'basis_skin_temp', 'basis_sleep_quality', 'basis_sleep_type',\n",
      "       'acceleration_value'],\n",
      "      dtype='object')\n"
     ]
    },
    {
     "data": {
      "text/html": [
       "<div>\n",
       "<style scoped>\n",
       "    .dataframe tbody tr th:only-of-type {\n",
       "        vertical-align: middle;\n",
       "    }\n",
       "\n",
       "    .dataframe tbody tr th {\n",
       "        vertical-align: top;\n",
       "    }\n",
       "\n",
       "    .dataframe thead th {\n",
       "        text-align: right;\n",
       "    }\n",
       "</style>\n",
       "<table border=\"1\" class=\"dataframe\">\n",
       "  <thead>\n",
       "    <tr style=\"text-align: right;\">\n",
       "      <th></th>\n",
       "      <th>gl_value</th>\n",
       "      <th>fs_value</th>\n",
       "      <th>basel_value</th>\n",
       "      <th>basis_gsr</th>\n",
       "      <th>basis_skin_temp</th>\n",
       "      <th>bolus_dose</th>\n",
       "    </tr>\n",
       "    <tr>\n",
       "      <th>dt</th>\n",
       "      <th></th>\n",
       "      <th></th>\n",
       "      <th></th>\n",
       "      <th></th>\n",
       "      <th></th>\n",
       "      <th></th>\n",
       "    </tr>\n",
       "  </thead>\n",
       "  <tbody>\n",
       "    <tr>\n",
       "      <th>2027-05-19 11:30:00</th>\n",
       "      <td>175.0</td>\n",
       "      <td>124.0</td>\n",
       "      <td>1.8</td>\n",
       "      <td>0.361021</td>\n",
       "      <td>87.938</td>\n",
       "      <td>0.0</td>\n",
       "    </tr>\n",
       "    <tr>\n",
       "      <th>2027-05-19 11:35:00</th>\n",
       "      <td>176.0</td>\n",
       "      <td>124.0</td>\n",
       "      <td>1.8</td>\n",
       "      <td>0.362400</td>\n",
       "      <td>87.400</td>\n",
       "      <td>0.0</td>\n",
       "    </tr>\n",
       "    <tr>\n",
       "      <th>2027-05-19 11:40:00</th>\n",
       "      <td>157.0</td>\n",
       "      <td>124.0</td>\n",
       "      <td>1.8</td>\n",
       "      <td>0.378307</td>\n",
       "      <td>87.320</td>\n",
       "      <td>0.0</td>\n",
       "    </tr>\n",
       "    <tr>\n",
       "      <th>2027-05-19 11:45:00</th>\n",
       "      <td>156.0</td>\n",
       "      <td>124.0</td>\n",
       "      <td>1.8</td>\n",
       "      <td>0.373754</td>\n",
       "      <td>87.432</td>\n",
       "      <td>0.0</td>\n",
       "    </tr>\n",
       "    <tr>\n",
       "      <th>2027-05-19 11:50:00</th>\n",
       "      <td>155.0</td>\n",
       "      <td>124.0</td>\n",
       "      <td>1.8</td>\n",
       "      <td>0.391010</td>\n",
       "      <td>88.110</td>\n",
       "      <td>0.0</td>\n",
       "    </tr>\n",
       "  </tbody>\n",
       "</table>\n",
       "</div>"
      ],
      "text/plain": [
       "                     gl_value  fs_value  basel_value  basis_gsr  \\\n",
       "dt                                                                \n",
       "2027-05-19 11:30:00     175.0     124.0          1.8   0.361021   \n",
       "2027-05-19 11:35:00     176.0     124.0          1.8   0.362400   \n",
       "2027-05-19 11:40:00     157.0     124.0          1.8   0.378307   \n",
       "2027-05-19 11:45:00     156.0     124.0          1.8   0.373754   \n",
       "2027-05-19 11:50:00     155.0     124.0          1.8   0.391010   \n",
       "\n",
       "                     basis_skin_temp  bolus_dose  \n",
       "dt                                                \n",
       "2027-05-19 11:30:00           87.938         0.0  \n",
       "2027-05-19 11:35:00           87.400         0.0  \n",
       "2027-05-19 11:40:00           87.320         0.0  \n",
       "2027-05-19 11:45:00           87.432         0.0  \n",
       "2027-05-19 11:50:00           88.110         0.0  "
      ]
     },
     "metadata": {},
     "output_type": "display_data"
    },
    {
     "data": {
      "text/plain": [
       "(13104, 6)"
      ]
     },
     "metadata": {},
     "output_type": "display_data"
    }
   ],
   "source": [
    "file_name = csv_file_path[6].split('/')[-1].split('-')[0]\n",
    "df_544 = read_csv_file(csv_file_path[6])\n",
    "print(df_544.columns)\n",
    "df_544 = df_544[cols_to_keep]\n",
    "display(df_544.head())\n",
    "display(df_544.shape)"
   ]
  },
  {
   "cell_type": "code",
   "execution_count": 49,
   "metadata": {},
   "outputs": [],
   "source": [
    "df_544_values = df_544.values\n",
    "train_count = 13104\n",
    "n_input = 6\n",
    "train = split_dataset(df_544_values, train_count)"
   ]
  },
  {
   "cell_type": "code",
   "execution_count": 50,
   "metadata": {},
   "outputs": [
    {
     "data": {
      "text/plain": [
       "(1092, 12, 6)"
      ]
     },
     "execution_count": 50,
     "metadata": {},
     "output_type": "execute_result"
    }
   ],
   "source": [
    "train.shape"
   ]
  },
  {
   "cell_type": "code",
   "execution_count": 51,
   "metadata": {},
   "outputs": [
    {
     "name": "stdout",
     "output_type": "stream",
     "text": [
      "Train X : (13087, 6, 6)\n",
      "Train Y : (13087, 12)\n"
     ]
    }
   ],
   "source": [
    "train_x, train_y = to_supervised(train, n_input)\n",
    "print(\"Train X :\", train_x.shape)\n",
    "print(\"Train Y :\", train_y.shape)\n",
    "n_timesteps, n_features, n_outputs = train_x.shape[1], train_x.shape[2], train_y.shape[1]\n",
    "train_y = train_y.reshape((train_y.shape[0], train_y.shape[1], 1))"
   ]
  },
  {
   "cell_type": "code",
   "execution_count": 52,
   "metadata": {},
   "outputs": [],
   "source": [
    "model = load_model('575.h5')"
   ]
  },
  {
   "cell_type": "code",
   "execution_count": 53,
   "metadata": {},
   "outputs": [
    {
     "data": {
      "text/plain": [
       "<keras.callbacks.callbacks.History at 0x7f0c643cd7f0>"
      ]
     },
     "execution_count": 53,
     "metadata": {},
     "output_type": "execute_result"
    }
   ],
   "source": [
    "model.fit(train_x, train_y, epochs = epochs, batch_size = batch_size, verbose = verbose)"
   ]
  },
  {
   "cell_type": "code",
   "execution_count": 54,
   "metadata": {},
   "outputs": [],
   "source": [
    "model.save('544.h5')"
   ]
  },
  {
   "cell_type": "code",
   "execution_count": 55,
   "metadata": {},
   "outputs": [
    {
     "name": "stdout",
     "output_type": "stream",
     "text": [
      "Index(['gl_value', 'fs_value', 'basel_value', 'bolus_dose',\n",
      "       'bolus_type_normal', 'meal_carbs', 'meal_type_Breakfast',\n",
      "       'meal_type_Dinner', 'meal_type_HypoCorrection', 'meal_type_Lunch',\n",
      "       'meal_type_Snack', 'sleep_quality', 'exercise_intensity',\n",
      "       'exercise_duration', 'exercise_type', 'basis_gsr', 'basis_skin_temp',\n",
      "       'basis_sleep_quality', 'basis_sleep_type', 'acceleration_value'],\n",
      "      dtype='object')\n"
     ]
    },
    {
     "data": {
      "text/html": [
       "<div>\n",
       "<style scoped>\n",
       "    .dataframe tbody tr th:only-of-type {\n",
       "        vertical-align: middle;\n",
       "    }\n",
       "\n",
       "    .dataframe tbody tr th {\n",
       "        vertical-align: top;\n",
       "    }\n",
       "\n",
       "    .dataframe thead th {\n",
       "        text-align: right;\n",
       "    }\n",
       "</style>\n",
       "<table border=\"1\" class=\"dataframe\">\n",
       "  <thead>\n",
       "    <tr style=\"text-align: right;\">\n",
       "      <th></th>\n",
       "      <th>gl_value</th>\n",
       "      <th>fs_value</th>\n",
       "      <th>basel_value</th>\n",
       "      <th>basis_gsr</th>\n",
       "      <th>basis_skin_temp</th>\n",
       "      <th>bolus_dose</th>\n",
       "    </tr>\n",
       "    <tr>\n",
       "      <th>dt</th>\n",
       "      <th></th>\n",
       "      <th></th>\n",
       "      <th></th>\n",
       "      <th></th>\n",
       "      <th></th>\n",
       "      <th></th>\n",
       "    </tr>\n",
       "  </thead>\n",
       "  <tbody>\n",
       "    <tr>\n",
       "      <th>2027-04-09 16:15:00</th>\n",
       "      <td>142.0</td>\n",
       "      <td>113.0</td>\n",
       "      <td>0.4</td>\n",
       "      <td>0.019279</td>\n",
       "      <td>82.664</td>\n",
       "      <td>0.0</td>\n",
       "    </tr>\n",
       "    <tr>\n",
       "      <th>2027-04-09 16:20:00</th>\n",
       "      <td>142.0</td>\n",
       "      <td>113.0</td>\n",
       "      <td>0.4</td>\n",
       "      <td>0.019279</td>\n",
       "      <td>82.664</td>\n",
       "      <td>0.0</td>\n",
       "    </tr>\n",
       "    <tr>\n",
       "      <th>2027-04-09 16:25:00</th>\n",
       "      <td>142.0</td>\n",
       "      <td>113.0</td>\n",
       "      <td>0.4</td>\n",
       "      <td>0.019279</td>\n",
       "      <td>82.664</td>\n",
       "      <td>0.0</td>\n",
       "    </tr>\n",
       "    <tr>\n",
       "      <th>2027-04-09 16:30:00</th>\n",
       "      <td>141.0</td>\n",
       "      <td>113.0</td>\n",
       "      <td>0.4</td>\n",
       "      <td>0.019279</td>\n",
       "      <td>82.664</td>\n",
       "      <td>0.0</td>\n",
       "    </tr>\n",
       "    <tr>\n",
       "      <th>2027-04-09 16:35:00</th>\n",
       "      <td>139.0</td>\n",
       "      <td>113.0</td>\n",
       "      <td>0.4</td>\n",
       "      <td>0.019279</td>\n",
       "      <td>82.664</td>\n",
       "      <td>0.0</td>\n",
       "    </tr>\n",
       "  </tbody>\n",
       "</table>\n",
       "</div>"
      ],
      "text/plain": [
       "                     gl_value  fs_value  basel_value  basis_gsr  \\\n",
       "dt                                                                \n",
       "2027-04-09 16:15:00     142.0     113.0          0.4   0.019279   \n",
       "2027-04-09 16:20:00     142.0     113.0          0.4   0.019279   \n",
       "2027-04-09 16:25:00     142.0     113.0          0.4   0.019279   \n",
       "2027-04-09 16:30:00     141.0     113.0          0.4   0.019279   \n",
       "2027-04-09 16:35:00     139.0     113.0          0.4   0.019279   \n",
       "\n",
       "                     basis_skin_temp  bolus_dose  \n",
       "dt                                                \n",
       "2027-04-09 16:15:00           82.664         0.0  \n",
       "2027-04-09 16:20:00           82.664         0.0  \n",
       "2027-04-09 16:25:00           82.664         0.0  \n",
       "2027-04-09 16:30:00           82.664         0.0  \n",
       "2027-04-09 16:35:00           82.664         0.0  "
      ]
     },
     "metadata": {},
     "output_type": "display_data"
    },
    {
     "data": {
      "text/plain": [
       "(13628, 6)"
      ]
     },
     "metadata": {},
     "output_type": "display_data"
    }
   ],
   "source": [
    "file_name = csv_file_path[7].split('/')[-1].split('-')[0]\n",
    "df_596 = read_csv_file(csv_file_path[7])\n",
    "print(df_596.columns)\n",
    "df_596 = df_596[cols_to_keep]\n",
    "display(df_596.head())\n",
    "display(df_596.shape)"
   ]
  },
  {
   "cell_type": "code",
   "execution_count": 56,
   "metadata": {},
   "outputs": [],
   "source": [
    "df_596_values = df_596.values\n",
    "train_count = 13620\n",
    "n_input = 6\n",
    "train = split_dataset(df_596_values, train_count)"
   ]
  },
  {
   "cell_type": "code",
   "execution_count": 57,
   "metadata": {},
   "outputs": [
    {
     "data": {
      "text/plain": [
       "(1135, 12, 6)"
      ]
     },
     "execution_count": 57,
     "metadata": {},
     "output_type": "execute_result"
    }
   ],
   "source": [
    "train.shape"
   ]
  },
  {
   "cell_type": "code",
   "execution_count": 58,
   "metadata": {},
   "outputs": [
    {
     "name": "stdout",
     "output_type": "stream",
     "text": [
      "Train X : (13603, 6, 6)\n",
      "Train Y : (13603, 12)\n"
     ]
    }
   ],
   "source": [
    "train_x, train_y = to_supervised(train, n_input)\n",
    "print(\"Train X :\", train_x.shape)\n",
    "print(\"Train Y :\", train_y.shape)\n",
    "n_timesteps, n_features, n_outputs = train_x.shape[1], train_x.shape[2], train_y.shape[1]\n",
    "train_y = train_y.reshape((train_y.shape[0], train_y.shape[1], 1))"
   ]
  },
  {
   "cell_type": "code",
   "execution_count": 59,
   "metadata": {},
   "outputs": [],
   "source": [
    "model = load_model('544.h5')"
   ]
  },
  {
   "cell_type": "code",
   "execution_count": 60,
   "metadata": {},
   "outputs": [
    {
     "data": {
      "text/plain": [
       "<keras.callbacks.callbacks.History at 0x7f0c4c2b64a8>"
      ]
     },
     "execution_count": 60,
     "metadata": {},
     "output_type": "execute_result"
    }
   ],
   "source": [
    "model.fit(train_x, train_y, epochs = epochs, batch_size = batch_size, verbose = verbose)"
   ]
  },
  {
   "cell_type": "code",
   "execution_count": 61,
   "metadata": {},
   "outputs": [],
   "source": [
    "model.save('596.h5')"
   ]
  },
  {
   "cell_type": "code",
   "execution_count": 62,
   "metadata": {},
   "outputs": [
    {
     "name": "stdout",
     "output_type": "stream",
     "text": [
      "Index(['gl_value', 'fs_value', 'basel_value', 'bolus_dose', 'bwz_carb_input',\n",
      "       'bolus_type_normal', 'bolus_type_normal_dual', 'bolus_type_square_dual',\n",
      "       'meal_carbs', 'meal_type_Breakfast', 'meal_type_Dinner',\n",
      "       'meal_type_HypoCorrection', 'meal_type_Lunch', 'meal_type_Snack',\n",
      "       'sleep_quality', 'exercise_intensity', 'exercise_duration',\n",
      "       'exercise_type', 'basis_heart_rate', 'basis_gsr', 'basis_skin_temp',\n",
      "       'basis_air_temp', 'basis_steps', 'basis_sleep_quality',\n",
      "       'basis_sleep_type'],\n",
      "      dtype='object')\n"
     ]
    },
    {
     "data": {
      "text/html": [
       "<div>\n",
       "<style scoped>\n",
       "    .dataframe tbody tr th:only-of-type {\n",
       "        vertical-align: middle;\n",
       "    }\n",
       "\n",
       "    .dataframe tbody tr th {\n",
       "        vertical-align: top;\n",
       "    }\n",
       "\n",
       "    .dataframe thead th {\n",
       "        text-align: right;\n",
       "    }\n",
       "</style>\n",
       "<table border=\"1\" class=\"dataframe\">\n",
       "  <thead>\n",
       "    <tr style=\"text-align: right;\">\n",
       "      <th></th>\n",
       "      <th>gl_value</th>\n",
       "      <th>fs_value</th>\n",
       "      <th>basel_value</th>\n",
       "      <th>basis_gsr</th>\n",
       "      <th>basis_skin_temp</th>\n",
       "      <th>bolus_dose</th>\n",
       "    </tr>\n",
       "    <tr>\n",
       "      <th>dt</th>\n",
       "      <th></th>\n",
       "      <th></th>\n",
       "      <th></th>\n",
       "      <th></th>\n",
       "      <th></th>\n",
       "      <th></th>\n",
       "    </tr>\n",
       "  </thead>\n",
       "  <tbody>\n",
       "    <tr>\n",
       "      <th>2021-11-30 17:05:00</th>\n",
       "      <td>160.0</td>\n",
       "      <td>263.0</td>\n",
       "      <td>0.95</td>\n",
       "      <td>0.000395</td>\n",
       "      <td>89.06</td>\n",
       "      <td>0.0</td>\n",
       "    </tr>\n",
       "    <tr>\n",
       "      <th>2021-11-30 17:10:00</th>\n",
       "      <td>158.0</td>\n",
       "      <td>263.0</td>\n",
       "      <td>0.95</td>\n",
       "      <td>0.000405</td>\n",
       "      <td>90.32</td>\n",
       "      <td>0.0</td>\n",
       "    </tr>\n",
       "    <tr>\n",
       "      <th>2021-11-30 17:15:00</th>\n",
       "      <td>160.0</td>\n",
       "      <td>263.0</td>\n",
       "      <td>0.95</td>\n",
       "      <td>0.000366</td>\n",
       "      <td>91.04</td>\n",
       "      <td>0.0</td>\n",
       "    </tr>\n",
       "    <tr>\n",
       "      <th>2021-11-30 17:20:00</th>\n",
       "      <td>166.0</td>\n",
       "      <td>263.0</td>\n",
       "      <td>0.95</td>\n",
       "      <td>0.000239</td>\n",
       "      <td>89.60</td>\n",
       "      <td>0.0</td>\n",
       "    </tr>\n",
       "    <tr>\n",
       "      <th>2021-11-30 17:25:00</th>\n",
       "      <td>175.0</td>\n",
       "      <td>263.0</td>\n",
       "      <td>0.95</td>\n",
       "      <td>0.000255</td>\n",
       "      <td>91.40</td>\n",
       "      <td>0.0</td>\n",
       "    </tr>\n",
       "  </tbody>\n",
       "</table>\n",
       "</div>"
      ],
      "text/plain": [
       "                     gl_value  fs_value  basel_value  basis_gsr  \\\n",
       "dt                                                                \n",
       "2021-11-30 17:05:00     160.0     263.0         0.95   0.000395   \n",
       "2021-11-30 17:10:00     158.0     263.0         0.95   0.000405   \n",
       "2021-11-30 17:15:00     160.0     263.0         0.95   0.000366   \n",
       "2021-11-30 17:20:00     166.0     263.0         0.95   0.000239   \n",
       "2021-11-30 17:25:00     175.0     263.0         0.95   0.000255   \n",
       "\n",
       "                     basis_skin_temp  bolus_dose  \n",
       "dt                                                \n",
       "2021-11-30 17:05:00            89.06         0.0  \n",
       "2021-11-30 17:10:00            90.32         0.0  \n",
       "2021-11-30 17:15:00            91.04         0.0  \n",
       "2021-11-30 17:20:00            89.60         0.0  \n",
       "2021-11-30 17:25:00            91.40         0.0  "
      ]
     },
     "metadata": {},
     "output_type": "display_data"
    },
    {
     "data": {
      "text/plain": [
       "(12754, 6)"
      ]
     },
     "metadata": {},
     "output_type": "display_data"
    }
   ],
   "source": [
    "file_name = csv_file_path[8].split('/')[-1].split('-')[0]\n",
    "df_591 = read_csv_file(csv_file_path[8])\n",
    "print(df_591.columns)\n",
    "df_591 = df_591[cols_to_keep]\n",
    "display(df_591.head())\n",
    "display(df_591.shape)"
   ]
  },
  {
   "cell_type": "code",
   "execution_count": 63,
   "metadata": {},
   "outputs": [],
   "source": [
    "df_591_values = df_591.values\n",
    "train_count = 12744\n",
    "n_input = 6\n",
    "train = split_dataset(df_591_values, train_count)"
   ]
  },
  {
   "cell_type": "code",
   "execution_count": 64,
   "metadata": {},
   "outputs": [
    {
     "data": {
      "text/plain": [
       "(1062, 12, 6)"
      ]
     },
     "execution_count": 64,
     "metadata": {},
     "output_type": "execute_result"
    }
   ],
   "source": [
    "train.shape"
   ]
  },
  {
   "cell_type": "code",
   "execution_count": 65,
   "metadata": {},
   "outputs": [
    {
     "name": "stdout",
     "output_type": "stream",
     "text": [
      "Train X : (12727, 6, 6)\n",
      "Train Y : (12727, 12)\n"
     ]
    }
   ],
   "source": [
    "train_x, train_y = to_supervised(train, n_input)\n",
    "print(\"Train X :\", train_x.shape)\n",
    "print(\"Train Y :\", train_y.shape)\n",
    "n_timesteps, n_features, n_outputs = train_x.shape[1], train_x.shape[2], train_y.shape[1]\n",
    "train_y = train_y.reshape((train_y.shape[0], train_y.shape[1], 1))"
   ]
  },
  {
   "cell_type": "code",
   "execution_count": 66,
   "metadata": {},
   "outputs": [],
   "source": [
    "model = load_model('596.h5')"
   ]
  },
  {
   "cell_type": "code",
   "execution_count": 67,
   "metadata": {},
   "outputs": [
    {
     "data": {
      "text/plain": [
       "<keras.callbacks.callbacks.History at 0x7f0c3f607b00>"
      ]
     },
     "execution_count": 67,
     "metadata": {},
     "output_type": "execute_result"
    }
   ],
   "source": [
    "model.fit(train_x, train_y, epochs = epochs, batch_size = batch_size, verbose = verbose)"
   ]
  },
  {
   "cell_type": "code",
   "execution_count": 68,
   "metadata": {},
   "outputs": [],
   "source": [
    "model.save('591.h5')"
   ]
  },
  {
   "cell_type": "code",
   "execution_count": 69,
   "metadata": {},
   "outputs": [
    {
     "name": "stdout",
     "output_type": "stream",
     "text": [
      "Index(['gl_value', 'fs_value', 'basel_value', 'bolus_dose', 'bwz_carb_input',\n",
      "       'bolus_type_normal', 'meal_carbs', 'meal_type_Breakfast',\n",
      "       'meal_type_Dinner', 'meal_type_HypoCorrection', 'meal_type_Lunch',\n",
      "       'meal_type_Snack', 'sleep_quality', 'work_intensity',\n",
      "       'exercise_intensity', 'exercise_duration', 'exercise_type',\n",
      "       'basis_heart_rate', 'basis_gsr', 'basis_skin_temp', 'basis_air_temp',\n",
      "       'basis_steps', 'basis_sleep_quality', 'basis_sleep_type'],\n",
      "      dtype='object')\n"
     ]
    },
    {
     "data": {
      "text/html": [
       "<div>\n",
       "<style scoped>\n",
       "    .dataframe tbody tr th:only-of-type {\n",
       "        vertical-align: middle;\n",
       "    }\n",
       "\n",
       "    .dataframe tbody tr th {\n",
       "        vertical-align: top;\n",
       "    }\n",
       "\n",
       "    .dataframe thead th {\n",
       "        text-align: right;\n",
       "    }\n",
       "</style>\n",
       "<table border=\"1\" class=\"dataframe\">\n",
       "  <thead>\n",
       "    <tr style=\"text-align: right;\">\n",
       "      <th></th>\n",
       "      <th>gl_value</th>\n",
       "      <th>fs_value</th>\n",
       "      <th>basel_value</th>\n",
       "      <th>basis_gsr</th>\n",
       "      <th>basis_skin_temp</th>\n",
       "      <th>bolus_dose</th>\n",
       "    </tr>\n",
       "    <tr>\n",
       "      <th>dt</th>\n",
       "      <th></th>\n",
       "      <th></th>\n",
       "      <th></th>\n",
       "      <th></th>\n",
       "      <th></th>\n",
       "      <th></th>\n",
       "    </tr>\n",
       "  </thead>\n",
       "  <tbody>\n",
       "    <tr>\n",
       "      <th>2021-08-30 11:50:00</th>\n",
       "      <td>116.0</td>\n",
       "      <td>114.0</td>\n",
       "      <td>1.25</td>\n",
       "      <td>0.000068</td>\n",
       "      <td>91.58</td>\n",
       "      <td>0.0</td>\n",
       "    </tr>\n",
       "    <tr>\n",
       "      <th>2021-08-30 11:55:00</th>\n",
       "      <td>117.0</td>\n",
       "      <td>114.0</td>\n",
       "      <td>1.25</td>\n",
       "      <td>0.000067</td>\n",
       "      <td>92.30</td>\n",
       "      <td>0.0</td>\n",
       "    </tr>\n",
       "    <tr>\n",
       "      <th>2021-08-30 12:00:00</th>\n",
       "      <td>119.0</td>\n",
       "      <td>114.0</td>\n",
       "      <td>1.25</td>\n",
       "      <td>0.000066</td>\n",
       "      <td>91.40</td>\n",
       "      <td>5.1</td>\n",
       "    </tr>\n",
       "    <tr>\n",
       "      <th>2021-08-30 12:05:00</th>\n",
       "      <td>116.0</td>\n",
       "      <td>114.0</td>\n",
       "      <td>1.25</td>\n",
       "      <td>0.000066</td>\n",
       "      <td>91.40</td>\n",
       "      <td>0.0</td>\n",
       "    </tr>\n",
       "    <tr>\n",
       "      <th>2021-08-30 12:10:00</th>\n",
       "      <td>111.0</td>\n",
       "      <td>114.0</td>\n",
       "      <td>1.25</td>\n",
       "      <td>0.000066</td>\n",
       "      <td>91.94</td>\n",
       "      <td>0.0</td>\n",
       "    </tr>\n",
       "  </tbody>\n",
       "</table>\n",
       "</div>"
      ],
      "text/plain": [
       "                     gl_value  fs_value  basel_value  basis_gsr  \\\n",
       "dt                                                                \n",
       "2021-08-30 11:50:00     116.0     114.0         1.25   0.000068   \n",
       "2021-08-30 11:55:00     117.0     114.0         1.25   0.000067   \n",
       "2021-08-30 12:00:00     119.0     114.0         1.25   0.000066   \n",
       "2021-08-30 12:05:00     116.0     114.0         1.25   0.000066   \n",
       "2021-08-30 12:10:00     111.0     114.0         1.25   0.000066   \n",
       "\n",
       "                     basis_skin_temp  bolus_dose  \n",
       "dt                                                \n",
       "2021-08-30 11:50:00            91.58         0.0  \n",
       "2021-08-30 11:55:00            92.30         0.0  \n",
       "2021-08-30 12:00:00            91.40         5.1  \n",
       "2021-08-30 12:05:00            91.40         0.0  \n",
       "2021-08-30 12:10:00            91.94         0.0  "
      ]
     },
     "metadata": {},
     "output_type": "display_data"
    },
    {
     "data": {
      "text/plain": [
       "(13105, 6)"
      ]
     },
     "metadata": {},
     "output_type": "display_data"
    }
   ],
   "source": [
    "file_name = csv_file_path[9].split('/')[-1].split('-')[0]\n",
    "df_588 = read_csv_file(csv_file_path[9])\n",
    "print(df_588.columns)\n",
    "df_588 = df_588[cols_to_keep]\n",
    "display(df_588.head())\n",
    "display(df_588.shape)"
   ]
  },
  {
   "cell_type": "code",
   "execution_count": 70,
   "metadata": {},
   "outputs": [],
   "source": [
    "df_588_values = df_588.values\n",
    "train_count = 13104\n",
    "n_input = 6\n",
    "train = split_dataset(df_588_values, train_count)"
   ]
  },
  {
   "cell_type": "code",
   "execution_count": 71,
   "metadata": {},
   "outputs": [
    {
     "data": {
      "text/plain": [
       "(1092, 12, 6)"
      ]
     },
     "execution_count": 71,
     "metadata": {},
     "output_type": "execute_result"
    }
   ],
   "source": [
    "train.shape"
   ]
  },
  {
   "cell_type": "code",
   "execution_count": 72,
   "metadata": {},
   "outputs": [
    {
     "name": "stdout",
     "output_type": "stream",
     "text": [
      "Train X : (13087, 6, 6)\n",
      "Train Y : (13087, 12)\n"
     ]
    }
   ],
   "source": [
    "train_x, train_y = to_supervised(train, n_input)\n",
    "print(\"Train X :\", train_x.shape)\n",
    "print(\"Train Y :\", train_y.shape)\n",
    "n_timesteps, n_features, n_outputs = train_x.shape[1], train_x.shape[2], train_y.shape[1]\n",
    "train_y = train_y.reshape((train_y.shape[0], train_y.shape[1], 1))"
   ]
  },
  {
   "cell_type": "code",
   "execution_count": 73,
   "metadata": {},
   "outputs": [],
   "source": [
    "model = load_model('591.h5')"
   ]
  },
  {
   "cell_type": "code",
   "execution_count": 74,
   "metadata": {},
   "outputs": [
    {
     "data": {
      "text/plain": [
       "<keras.callbacks.callbacks.History at 0x7f0c6403fcc0>"
      ]
     },
     "execution_count": 74,
     "metadata": {},
     "output_type": "execute_result"
    }
   ],
   "source": [
    "model.fit(train_x, train_y, epochs = epochs, batch_size = batch_size, verbose = verbose)"
   ]
  },
  {
   "cell_type": "code",
   "execution_count": 75,
   "metadata": {},
   "outputs": [],
   "source": [
    "model.save('588.h5')"
   ]
  },
  {
   "cell_type": "code",
   "execution_count": 76,
   "metadata": {},
   "outputs": [
    {
     "name": "stdout",
     "output_type": "stream",
     "text": [
      "Index(['gl_value', 'fs_value', 'basel_value', 'bolus_dose',\n",
      "       'bolus_type_normal', 'meal_carbs', 'meal_type_Breakfast',\n",
      "       'meal_type_Dinner', 'meal_type_Lunch', 'meal_type_Snack',\n",
      "       'sleep_quality', 'work_intensity', 'exercise_intensity',\n",
      "       'exercise_duration', 'exercise_type', 'basis_gsr', 'basis_skin_temp',\n",
      "       'basis_sleep_quality', 'basis_sleep_type', 'acceleration_value'],\n",
      "      dtype='object')\n"
     ]
    },
    {
     "data": {
      "text/html": [
       "<div>\n",
       "<style scoped>\n",
       "    .dataframe tbody tr th:only-of-type {\n",
       "        vertical-align: middle;\n",
       "    }\n",
       "\n",
       "    .dataframe tbody tr th {\n",
       "        vertical-align: top;\n",
       "    }\n",
       "\n",
       "    .dataframe thead th {\n",
       "        text-align: right;\n",
       "    }\n",
       "</style>\n",
       "<table border=\"1\" class=\"dataframe\">\n",
       "  <thead>\n",
       "    <tr style=\"text-align: right;\">\n",
       "      <th></th>\n",
       "      <th>gl_value</th>\n",
       "      <th>fs_value</th>\n",
       "      <th>basel_value</th>\n",
       "      <th>basis_gsr</th>\n",
       "      <th>basis_skin_temp</th>\n",
       "      <th>bolus_dose</th>\n",
       "    </tr>\n",
       "    <tr>\n",
       "      <th>dt</th>\n",
       "      <th></th>\n",
       "      <th></th>\n",
       "      <th></th>\n",
       "      <th></th>\n",
       "      <th></th>\n",
       "      <th></th>\n",
       "    </tr>\n",
       "  </thead>\n",
       "  <tbody>\n",
       "    <tr>\n",
       "      <th>2025-05-14 00:00:00</th>\n",
       "      <td>48.0</td>\n",
       "      <td>197.0</td>\n",
       "      <td>1.75</td>\n",
       "      <td>0.134848</td>\n",
       "      <td>84.555</td>\n",
       "      <td>0.0</td>\n",
       "    </tr>\n",
       "    <tr>\n",
       "      <th>2025-05-14 00:05:00</th>\n",
       "      <td>48.0</td>\n",
       "      <td>197.0</td>\n",
       "      <td>1.75</td>\n",
       "      <td>0.134848</td>\n",
       "      <td>84.555</td>\n",
       "      <td>0.0</td>\n",
       "    </tr>\n",
       "    <tr>\n",
       "      <th>2025-05-14 00:10:00</th>\n",
       "      <td>53.0</td>\n",
       "      <td>197.0</td>\n",
       "      <td>1.75</td>\n",
       "      <td>0.134848</td>\n",
       "      <td>84.555</td>\n",
       "      <td>0.0</td>\n",
       "    </tr>\n",
       "    <tr>\n",
       "      <th>2025-05-14 00:15:00</th>\n",
       "      <td>63.0</td>\n",
       "      <td>197.0</td>\n",
       "      <td>1.75</td>\n",
       "      <td>0.134848</td>\n",
       "      <td>84.555</td>\n",
       "      <td>0.0</td>\n",
       "    </tr>\n",
       "    <tr>\n",
       "      <th>2025-05-14 00:20:00</th>\n",
       "      <td>69.0</td>\n",
       "      <td>197.0</td>\n",
       "      <td>1.75</td>\n",
       "      <td>0.134848</td>\n",
       "      <td>84.555</td>\n",
       "      <td>0.0</td>\n",
       "    </tr>\n",
       "  </tbody>\n",
       "</table>\n",
       "</div>"
      ],
      "text/plain": [
       "                     gl_value  fs_value  basel_value  basis_gsr  \\\n",
       "dt                                                                \n",
       "2025-05-14 00:00:00      48.0     197.0         1.75   0.134848   \n",
       "2025-05-14 00:05:00      48.0     197.0         1.75   0.134848   \n",
       "2025-05-14 00:10:00      53.0     197.0         1.75   0.134848   \n",
       "2025-05-14 00:15:00      63.0     197.0         1.75   0.134848   \n",
       "2025-05-14 00:20:00      69.0     197.0         1.75   0.134848   \n",
       "\n",
       "                     basis_skin_temp  bolus_dose  \n",
       "dt                                                \n",
       "2025-05-14 00:00:00           84.555         0.0  \n",
       "2025-05-14 00:05:00           84.555         0.0  \n",
       "2025-05-14 00:10:00           84.555         0.0  \n",
       "2025-05-14 00:15:00           84.555         0.0  \n",
       "2025-05-14 00:20:00           84.555         0.0  "
      ]
     },
     "metadata": {},
     "output_type": "display_data"
    },
    {
     "data": {
      "text/plain": [
       "(13247, 6)"
      ]
     },
     "metadata": {},
     "output_type": "display_data"
    }
   ],
   "source": [
    "file_name = csv_file_path[10].split('/')[-1].split('-')[0]\n",
    "df_584 = read_csv_file(csv_file_path[10])\n",
    "print(df_584.columns)\n",
    "df_584 = df_584[cols_to_keep]\n",
    "display(df_584.head())\n",
    "display(df_584.shape)"
   ]
  },
  {
   "cell_type": "code",
   "execution_count": 77,
   "metadata": {},
   "outputs": [],
   "source": [
    "df_584_values = df_584.values\n",
    "train_count = 13236\n",
    "n_input = 6\n",
    "train = split_dataset(df_584_values, train_count)"
   ]
  },
  {
   "cell_type": "code",
   "execution_count": 78,
   "metadata": {},
   "outputs": [
    {
     "data": {
      "text/plain": [
       "(1103, 12, 6)"
      ]
     },
     "execution_count": 78,
     "metadata": {},
     "output_type": "execute_result"
    }
   ],
   "source": [
    "train.shape"
   ]
  },
  {
   "cell_type": "code",
   "execution_count": 79,
   "metadata": {},
   "outputs": [
    {
     "name": "stdout",
     "output_type": "stream",
     "text": [
      "Train X : (13219, 6, 6)\n",
      "Train Y : (13219, 12)\n"
     ]
    }
   ],
   "source": [
    "train_x, train_y = to_supervised(train, n_input)\n",
    "print(\"Train X :\", train_x.shape)\n",
    "print(\"Train Y :\", train_y.shape)\n",
    "n_timesteps, n_features, n_outputs = train_x.shape[1], train_x.shape[2], train_y.shape[1]\n",
    "train_y = train_y.reshape((train_y.shape[0], train_y.shape[1], 1))"
   ]
  },
  {
   "cell_type": "code",
   "execution_count": 80,
   "metadata": {},
   "outputs": [],
   "source": [
    "model = load_model('588.h5')"
   ]
  },
  {
   "cell_type": "code",
   "execution_count": 81,
   "metadata": {},
   "outputs": [
    {
     "data": {
      "text/plain": [
       "<keras.callbacks.callbacks.History at 0x7f0c3ddb6dd8>"
      ]
     },
     "execution_count": 81,
     "metadata": {},
     "output_type": "execute_result"
    }
   ],
   "source": [
    "model.fit(train_x, train_y, epochs = epochs, batch_size = batch_size, verbose = verbose)"
   ]
  },
  {
   "cell_type": "code",
   "execution_count": 82,
   "metadata": {},
   "outputs": [],
   "source": [
    "model.save('584.h5')"
   ]
  },
  {
   "cell_type": "code",
   "execution_count": 83,
   "metadata": {},
   "outputs": [
    {
     "name": "stdout",
     "output_type": "stream",
     "text": [
      "Index(['gl_value', 'fs_value', 'basel_value', 'bolus_dose',\n",
      "       'bolus_type_normal', 'meal_carbs', 'meal_type_Breakfast',\n",
      "       'meal_type_Dinner', 'meal_type_HypoCorrection', 'meal_type_Lunch',\n",
      "       'meal_type_Snack', 'sleep_quality', 'work_intensity',\n",
      "       'exercise_intensity', 'exercise_duration', 'exercise_type', 'basis_gsr',\n",
      "       'basis_skin_temp', 'basis_sleep_quality', 'basis_sleep_type',\n",
      "       'acceleration_value'],\n",
      "      dtype='object')\n"
     ]
    },
    {
     "data": {
      "text/html": [
       "<div>\n",
       "<style scoped>\n",
       "    .dataframe tbody tr th:only-of-type {\n",
       "        vertical-align: middle;\n",
       "    }\n",
       "\n",
       "    .dataframe tbody tr th {\n",
       "        vertical-align: top;\n",
       "    }\n",
       "\n",
       "    .dataframe thead th {\n",
       "        text-align: right;\n",
       "    }\n",
       "</style>\n",
       "<table border=\"1\" class=\"dataframe\">\n",
       "  <thead>\n",
       "    <tr style=\"text-align: right;\">\n",
       "      <th></th>\n",
       "      <th>gl_value</th>\n",
       "      <th>fs_value</th>\n",
       "      <th>basel_value</th>\n",
       "      <th>basis_gsr</th>\n",
       "      <th>basis_skin_temp</th>\n",
       "      <th>bolus_dose</th>\n",
       "    </tr>\n",
       "    <tr>\n",
       "      <th>dt</th>\n",
       "      <th></th>\n",
       "      <th></th>\n",
       "      <th></th>\n",
       "      <th></th>\n",
       "      <th></th>\n",
       "      <th></th>\n",
       "    </tr>\n",
       "  </thead>\n",
       "  <tbody>\n",
       "    <tr>\n",
       "      <th>2025-04-16 11:15:00</th>\n",
       "      <td>95.0</td>\n",
       "      <td>102.0</td>\n",
       "      <td>1.4</td>\n",
       "      <td>0.015633</td>\n",
       "      <td>78.69</td>\n",
       "      <td>0.0</td>\n",
       "    </tr>\n",
       "    <tr>\n",
       "      <th>2025-04-16 11:20:00</th>\n",
       "      <td>86.0</td>\n",
       "      <td>85.0</td>\n",
       "      <td>1.4</td>\n",
       "      <td>0.015633</td>\n",
       "      <td>78.69</td>\n",
       "      <td>0.0</td>\n",
       "    </tr>\n",
       "    <tr>\n",
       "      <th>2025-04-16 11:25:00</th>\n",
       "      <td>81.0</td>\n",
       "      <td>85.0</td>\n",
       "      <td>1.4</td>\n",
       "      <td>0.015633</td>\n",
       "      <td>78.69</td>\n",
       "      <td>0.0</td>\n",
       "    </tr>\n",
       "    <tr>\n",
       "      <th>2025-04-16 11:30:00</th>\n",
       "      <td>81.0</td>\n",
       "      <td>85.0</td>\n",
       "      <td>1.4</td>\n",
       "      <td>0.015633</td>\n",
       "      <td>78.69</td>\n",
       "      <td>0.0</td>\n",
       "    </tr>\n",
       "    <tr>\n",
       "      <th>2025-04-16 11:35:00</th>\n",
       "      <td>82.0</td>\n",
       "      <td>85.0</td>\n",
       "      <td>1.4</td>\n",
       "      <td>0.015633</td>\n",
       "      <td>78.69</td>\n",
       "      <td>0.0</td>\n",
       "    </tr>\n",
       "  </tbody>\n",
       "</table>\n",
       "</div>"
      ],
      "text/plain": [
       "                     gl_value  fs_value  basel_value  basis_gsr  \\\n",
       "dt                                                                \n",
       "2025-04-16 11:15:00      95.0     102.0          1.4   0.015633   \n",
       "2025-04-16 11:20:00      86.0      85.0          1.4   0.015633   \n",
       "2025-04-16 11:25:00      81.0      85.0          1.4   0.015633   \n",
       "2025-04-16 11:30:00      81.0      85.0          1.4   0.015633   \n",
       "2025-04-16 11:35:00      82.0      85.0          1.4   0.015633   \n",
       "\n",
       "                     basis_skin_temp  bolus_dose  \n",
       "dt                                                \n",
       "2025-04-16 11:15:00            78.69         0.0  \n",
       "2025-04-16 11:20:00            78.69         0.0  \n",
       "2025-04-16 11:25:00            78.69         0.0  \n",
       "2025-04-16 11:30:00            78.69         0.0  \n",
       "2025-04-16 11:35:00            78.69         0.0  "
      ]
     },
     "metadata": {},
     "output_type": "display_data"
    },
    {
     "data": {
      "text/plain": [
       "(11096, 6)"
      ]
     },
     "metadata": {},
     "output_type": "display_data"
    }
   ],
   "source": [
    "file_name = csv_file_path[11].split('/')[-1].split('-')[0]\n",
    "df_552 = read_csv_file(csv_file_path[11])\n",
    "print(df_552.columns)\n",
    "df_552 = df_552[cols_to_keep]\n",
    "display(df_552.head())\n",
    "display(df_552.shape)"
   ]
  },
  {
   "cell_type": "code",
   "execution_count": 84,
   "metadata": {},
   "outputs": [],
   "source": [
    "df_552_values = df_552.values\n",
    "train_count = 11088\n",
    "n_input = 6\n",
    "train = split_dataset(df_552_values, train_count)"
   ]
  },
  {
   "cell_type": "code",
   "execution_count": 85,
   "metadata": {},
   "outputs": [
    {
     "data": {
      "text/plain": [
       "(924, 12, 6)"
      ]
     },
     "execution_count": 85,
     "metadata": {},
     "output_type": "execute_result"
    }
   ],
   "source": [
    "train.shape"
   ]
  },
  {
   "cell_type": "code",
   "execution_count": 86,
   "metadata": {},
   "outputs": [
    {
     "name": "stdout",
     "output_type": "stream",
     "text": [
      "Train X : (11071, 6, 6)\n",
      "Train Y : (11071, 12)\n"
     ]
    }
   ],
   "source": [
    "train_x, train_y = to_supervised(train, n_input)\n",
    "print(\"Train X :\", train_x.shape)\n",
    "print(\"Train Y :\", train_y.shape)\n",
    "n_timesteps, n_features, n_outputs = train_x.shape[1], train_x.shape[2], train_y.shape[1]\n",
    "train_y = train_y.reshape((train_y.shape[0], train_y.shape[1], 1))"
   ]
  },
  {
   "cell_type": "code",
   "execution_count": 87,
   "metadata": {},
   "outputs": [],
   "source": [
    "model = load_model('584.h5')"
   ]
  },
  {
   "cell_type": "code",
   "execution_count": 88,
   "metadata": {},
   "outputs": [
    {
     "data": {
      "text/plain": [
       "<keras.callbacks.callbacks.History at 0x7f0c3e02b9e8>"
      ]
     },
     "execution_count": 88,
     "metadata": {},
     "output_type": "execute_result"
    }
   ],
   "source": [
    "model.fit(train_x, train_y, epochs = epochs, batch_size = batch_size, verbose = verbose)"
   ]
  },
  {
   "cell_type": "code",
   "execution_count": 89,
   "metadata": {},
   "outputs": [],
   "source": [
    "model.save('552.h5')"
   ]
  },
  {
   "cell_type": "code",
   "execution_count": 90,
   "metadata": {},
   "outputs": [],
   "source": [
    "def evaluate_forecasts(actual, predicted):\n",
    "    print(\"Actual Shape : {}\".format(actual.shape))\n",
    "    print(\"Predicted Shape : {}\".format(predicted.shape))\n",
    "    scores = list()\n",
    "    maes = list()\n",
    "    for i in range(actual.shape[1]):\n",
    "        mse = mean_squared_error(actual[:, i], predicted[:, i])\n",
    "        mae = mean_absolute_error(actual[:, i], predicted[:, i])\n",
    "        rmse = sqrt(mse)\n",
    "        maes.append(mae)\n",
    "        scores.append(rmse)\n",
    "    s = 0\n",
    "    for row in range(actual.shape[0]):\n",
    "        for col in range(actual.shape[1]):\n",
    "            s += (actual[row, col] - predicted[row, col])**2\n",
    "    score = sqrt(s / (actual.shape[0] * actual.shape[1]))\n",
    "    return score, scores, maes"
   ]
  },
  {
   "cell_type": "code",
   "execution_count": 91,
   "metadata": {},
   "outputs": [],
   "source": [
    "def summarize_scores(name, score, scores, maes):\n",
    "    rmse_05_min = scores[0]\n",
    "    rmse_30_min = scores[5]\n",
    "    rmse_60_min = scores[11]\n",
    "    mae_05_min = maes[0]\n",
    "    mae_30_min = maes[5]\n",
    "    mae_60_min = maes[11]\n",
    "    print(\"==========================\")\n",
    "    print(\"RMSE : \")\n",
    "    print(\"5 Minutes : {0:0.1f}\".format(rmse_05_min))\n",
    "    print(\"30 Minutes : {0:0.1f}\".format(rmse_30_min))\n",
    "    print(\"60 Minutes : {0:0.1f}\".format(rmse_60_min))\n",
    "    print(\"==========================\")\n",
    "    print(\"==========================\")\n",
    "    print(\"MAE : \")\n",
    "    print(\"5 Minutes : {0:0.1f}\".format(mae_05_min))\n",
    "    print(\"30 Minutes : {0:0.1f}\".format(mae_30_min))\n",
    "    print(\"60 Minutes : {0:0.1f}\".format(mae_60_min))\n",
    "    print(\"===========================\")"
   ]
  },
  {
   "cell_type": "code",
   "execution_count": 92,
   "metadata": {},
   "outputs": [],
   "source": [
    "def forecast(model, history, n_input):\n",
    "    data = array(history)\n",
    "    data = data.reshape((data.shape[0]*data.shape[1], data.shape[2]))\n",
    "    # retrieve last observations for input data\n",
    "    input_x = data[-n_input:, :]\n",
    "    # reshape into [1, n_input, n]\n",
    "    input_x = input_x.reshape((1, input_x.shape[0], input_x.shape[1]))\n",
    "    # forecast the next 30 mins\n",
    "    yhat = model.predict(input_x, verbose=0)\n",
    "    # we only want the vector forecast\n",
    "    yhat = yhat[0]\n",
    "    return yhat"
   ]
  },
  {
   "cell_type": "code",
   "execution_count": 93,
   "metadata": {},
   "outputs": [],
   "source": [
    "def evaluate_model(model, train, test, n_input):\n",
    "    history = [x for x in train]\n",
    "    # walk-forward validation over each week\n",
    "    predictions = []\n",
    "    for i in range(len(test)):\n",
    "        # predict the 30 mins\n",
    "        yhat_sequence = forecast(model, history, n_input)\n",
    "        # store the predictions\n",
    "        predictions.append(yhat_sequence)\n",
    "        # get real observation and add to history for predicting the next 30 mins\n",
    "        history.append(test[i, :])\n",
    "    # evaluate predictions days for each 30 mins\n",
    "    predictions = array(predictions)\n",
    "    score, scores, maes = evaluate_forecasts(test[:, :, 0], predictions)\n",
    "\n",
    "    return score, scores, maes"
   ]
  },
  {
   "cell_type": "code",
   "execution_count": 94,
   "metadata": {},
   "outputs": [
    {
     "data": {
      "text/plain": [
       "['/KDH2020/KDH2020_BGLP_Challenge/practice/final_submission/5_min_complete_dataset_testing/584-ws-testing.csv',\n",
       " '/KDH2020/KDH2020_BGLP_Challenge/practice/final_submission/5_min_complete_dataset_testing/540-ws-testing.csv',\n",
       " '/KDH2020/KDH2020_BGLP_Challenge/practice/final_submission/5_min_complete_dataset_testing/544-ws-testing.csv',\n",
       " '/KDH2020/KDH2020_BGLP_Challenge/practice/final_submission/5_min_complete_dataset_testing/552-ws-testing.csv',\n",
       " '/KDH2020/KDH2020_BGLP_Challenge/practice/final_submission/5_min_complete_dataset_testing/596-ws-testing.csv',\n",
       " '/KDH2020/KDH2020_BGLP_Challenge/practice/final_submission/5_min_complete_dataset_testing/567-ws-testing.csv']"
      ]
     },
     "execution_count": 94,
     "metadata": {},
     "output_type": "execute_result"
    }
   ],
   "source": [
    "csv_test_dir_path = os.path.abspath('../../5_min_complete_dataset_testing/')\n",
    "csv_test_file_path = [os.path.join(csv_test_dir_path, item) for item in os.listdir(csv_test_dir_path)]\n",
    "csv_test_file_path"
   ]
  },
  {
   "cell_type": "code",
   "execution_count": 95,
   "metadata": {},
   "outputs": [
    {
     "data": {
      "text/html": [
       "<div>\n",
       "<style scoped>\n",
       "    .dataframe tbody tr th:only-of-type {\n",
       "        vertical-align: middle;\n",
       "    }\n",
       "\n",
       "    .dataframe tbody tr th {\n",
       "        vertical-align: top;\n",
       "    }\n",
       "\n",
       "    .dataframe thead th {\n",
       "        text-align: right;\n",
       "    }\n",
       "</style>\n",
       "<table border=\"1\" class=\"dataframe\">\n",
       "  <thead>\n",
       "    <tr style=\"text-align: right;\">\n",
       "      <th></th>\n",
       "      <th>gl_value</th>\n",
       "      <th>fs_value</th>\n",
       "      <th>basel_value</th>\n",
       "      <th>basis_gsr</th>\n",
       "      <th>basis_skin_temp</th>\n",
       "      <th>bolus_dose</th>\n",
       "    </tr>\n",
       "    <tr>\n",
       "      <th>dt</th>\n",
       "      <th></th>\n",
       "      <th></th>\n",
       "      <th></th>\n",
       "      <th></th>\n",
       "      <th></th>\n",
       "      <th></th>\n",
       "    </tr>\n",
       "  </thead>\n",
       "  <tbody>\n",
       "    <tr>\n",
       "      <th>2027-02-13 00:00:00</th>\n",
       "      <td>296.0</td>\n",
       "      <td>106.0</td>\n",
       "      <td>0.85</td>\n",
       "      <td>0.157680</td>\n",
       "      <td>95.768</td>\n",
       "      <td>0.0</td>\n",
       "    </tr>\n",
       "    <tr>\n",
       "      <th>2027-02-13 00:05:00</th>\n",
       "      <td>290.0</td>\n",
       "      <td>106.0</td>\n",
       "      <td>0.85</td>\n",
       "      <td>0.111388</td>\n",
       "      <td>95.854</td>\n",
       "      <td>0.0</td>\n",
       "    </tr>\n",
       "    <tr>\n",
       "      <th>2027-02-13 00:10:00</th>\n",
       "      <td>284.0</td>\n",
       "      <td>106.0</td>\n",
       "      <td>0.85</td>\n",
       "      <td>0.019517</td>\n",
       "      <td>95.138</td>\n",
       "      <td>0.0</td>\n",
       "    </tr>\n",
       "    <tr>\n",
       "      <th>2027-02-13 00:15:00</th>\n",
       "      <td>279.0</td>\n",
       "      <td>106.0</td>\n",
       "      <td>0.85</td>\n",
       "      <td>0.128944</td>\n",
       "      <td>94.778</td>\n",
       "      <td>0.0</td>\n",
       "    </tr>\n",
       "    <tr>\n",
       "      <th>2027-02-13 00:20:00</th>\n",
       "      <td>272.0</td>\n",
       "      <td>106.0</td>\n",
       "      <td>0.85</td>\n",
       "      <td>0.464830</td>\n",
       "      <td>95.264</td>\n",
       "      <td>0.0</td>\n",
       "    </tr>\n",
       "  </tbody>\n",
       "</table>\n",
       "</div>"
      ],
      "text/plain": [
       "                     gl_value  fs_value  basel_value  basis_gsr  \\\n",
       "dt                                                                \n",
       "2027-02-13 00:00:00     296.0     106.0         0.85   0.157680   \n",
       "2027-02-13 00:05:00     290.0     106.0         0.85   0.111388   \n",
       "2027-02-13 00:10:00     284.0     106.0         0.85   0.019517   \n",
       "2027-02-13 00:15:00     279.0     106.0         0.85   0.128944   \n",
       "2027-02-13 00:20:00     272.0     106.0         0.85   0.464830   \n",
       "\n",
       "                     basis_skin_temp  bolus_dose  \n",
       "dt                                                \n",
       "2027-02-13 00:00:00           95.768         0.0  \n",
       "2027-02-13 00:05:00           95.854         0.0  \n",
       "2027-02-13 00:10:00           95.138         0.0  \n",
       "2027-02-13 00:15:00           94.778         0.0  \n",
       "2027-02-13 00:20:00           95.264         0.0  "
      ]
     },
     "metadata": {},
     "output_type": "display_data"
    },
    {
     "data": {
      "text/plain": [
       "(2870, 6)"
      ]
     },
     "metadata": {},
     "output_type": "display_data"
    }
   ],
   "source": [
    "test_df_567 = read_csv_file(csv_test_file_path[5])\n",
    "test_df_567 = test_df_567[cols_to_keep]\n",
    "display(test_df_567.head())\n",
    "display(test_df_567.shape)"
   ]
  },
  {
   "cell_type": "code",
   "execution_count": 96,
   "metadata": {},
   "outputs": [
    {
     "data": {
      "text/plain": [
       "(239, 12, 6)"
      ]
     },
     "execution_count": 96,
     "metadata": {},
     "output_type": "execute_result"
    }
   ],
   "source": [
    "test_values_567 = test_df_567.values\n",
    "test_count = 2868\n",
    "test = split_dataset(test_values_567, test_count)\n",
    "test.shape"
   ]
  },
  {
   "cell_type": "code",
   "execution_count": 97,
   "metadata": {},
   "outputs": [],
   "source": [
    "model = load_model('552.h5')"
   ]
  },
  {
   "cell_type": "code",
   "execution_count": 98,
   "metadata": {},
   "outputs": [
    {
     "name": "stdout",
     "output_type": "stream",
     "text": [
      "Actual Shape : (239, 12)\n",
      "Predicted Shape : (239, 12, 1)\n"
     ]
    }
   ],
   "source": [
    "score, scores, maes = evaluate_model(model, train, test, n_input)"
   ]
  },
  {
   "cell_type": "code",
   "execution_count": 99,
   "metadata": {},
   "outputs": [
    {
     "name": "stdout",
     "output_type": "stream",
     "text": [
      "==========================\n",
      "RMSE : \n",
      "5 Minutes : 22.9\n",
      "30 Minutes : 30.8\n",
      "60 Minutes : 53.9\n",
      "==========================\n",
      "==========================\n",
      "MAE : \n",
      "5 Minutes : 10.9\n",
      "30 Minutes : 20.5\n",
      "60 Minutes : 37.1\n",
      "===========================\n"
     ]
    }
   ],
   "source": [
    "summarize_scores('seq2seq_lstm', score, scores, maes)\n",
    "# time_steps = ['5', '10', '15', '20', '25', '30']\n",
    "# plt.plot(time_steps, scores, marker = 'o', label = 'lstm')\n",
    "# plt.show()"
   ]
  },
  {
   "cell_type": "code",
   "execution_count": 100,
   "metadata": {},
   "outputs": [],
   "source": [
    "#df_567.columns"
   ]
  },
  {
   "cell_type": "code",
   "execution_count": 101,
   "metadata": {},
   "outputs": [],
   "source": [
    "#test_df_567.columns"
   ]
  },
  {
   "cell_type": "code",
   "execution_count": 102,
   "metadata": {},
   "outputs": [],
   "source": [
    "test_df_540 = read_csv_file(csv_test_file_path[1])\n",
    "test_df_540 = test_df_540[cols_to_keep]"
   ]
  },
  {
   "cell_type": "code",
   "execution_count": 103,
   "metadata": {},
   "outputs": [
    {
     "data": {
      "text/html": [
       "<div>\n",
       "<style scoped>\n",
       "    .dataframe tbody tr th:only-of-type {\n",
       "        vertical-align: middle;\n",
       "    }\n",
       "\n",
       "    .dataframe tbody tr th {\n",
       "        vertical-align: top;\n",
       "    }\n",
       "\n",
       "    .dataframe thead th {\n",
       "        text-align: right;\n",
       "    }\n",
       "</style>\n",
       "<table border=\"1\" class=\"dataframe\">\n",
       "  <thead>\n",
       "    <tr style=\"text-align: right;\">\n",
       "      <th></th>\n",
       "      <th>gl_value</th>\n",
       "      <th>fs_value</th>\n",
       "      <th>basel_value</th>\n",
       "      <th>basis_gsr</th>\n",
       "      <th>basis_skin_temp</th>\n",
       "      <th>bolus_dose</th>\n",
       "    </tr>\n",
       "    <tr>\n",
       "      <th>dt</th>\n",
       "      <th></th>\n",
       "      <th></th>\n",
       "      <th></th>\n",
       "      <th></th>\n",
       "      <th></th>\n",
       "      <th></th>\n",
       "    </tr>\n",
       "  </thead>\n",
       "  <tbody>\n",
       "    <tr>\n",
       "      <th>2027-07-04 00:00:00</th>\n",
       "      <td>254.0</td>\n",
       "      <td>204.0</td>\n",
       "      <td>2.4</td>\n",
       "      <td>0.006219</td>\n",
       "      <td>84.47</td>\n",
       "      <td>0.0</td>\n",
       "    </tr>\n",
       "    <tr>\n",
       "      <th>2027-07-04 00:05:00</th>\n",
       "      <td>250.0</td>\n",
       "      <td>204.0</td>\n",
       "      <td>2.4</td>\n",
       "      <td>0.006219</td>\n",
       "      <td>84.47</td>\n",
       "      <td>0.0</td>\n",
       "    </tr>\n",
       "    <tr>\n",
       "      <th>2027-07-04 00:10:00</th>\n",
       "      <td>249.0</td>\n",
       "      <td>204.0</td>\n",
       "      <td>2.4</td>\n",
       "      <td>0.006219</td>\n",
       "      <td>84.47</td>\n",
       "      <td>0.0</td>\n",
       "    </tr>\n",
       "    <tr>\n",
       "      <th>2027-07-04 00:15:00</th>\n",
       "      <td>247.0</td>\n",
       "      <td>204.0</td>\n",
       "      <td>2.4</td>\n",
       "      <td>0.006219</td>\n",
       "      <td>84.47</td>\n",
       "      <td>0.0</td>\n",
       "    </tr>\n",
       "    <tr>\n",
       "      <th>2027-07-04 00:20:00</th>\n",
       "      <td>242.0</td>\n",
       "      <td>204.0</td>\n",
       "      <td>2.4</td>\n",
       "      <td>0.006219</td>\n",
       "      <td>84.47</td>\n",
       "      <td>0.0</td>\n",
       "    </tr>\n",
       "  </tbody>\n",
       "</table>\n",
       "</div>"
      ],
      "text/plain": [
       "                     gl_value  fs_value  basel_value  basis_gsr  \\\n",
       "dt                                                                \n",
       "2027-07-04 00:00:00     254.0     204.0          2.4   0.006219   \n",
       "2027-07-04 00:05:00     250.0     204.0          2.4   0.006219   \n",
       "2027-07-04 00:10:00     249.0     204.0          2.4   0.006219   \n",
       "2027-07-04 00:15:00     247.0     204.0          2.4   0.006219   \n",
       "2027-07-04 00:20:00     242.0     204.0          2.4   0.006219   \n",
       "\n",
       "                     basis_skin_temp  bolus_dose  \n",
       "dt                                                \n",
       "2027-07-04 00:00:00            84.47         0.0  \n",
       "2027-07-04 00:05:00            84.47         0.0  \n",
       "2027-07-04 00:10:00            84.47         0.0  \n",
       "2027-07-04 00:15:00            84.47         0.0  \n",
       "2027-07-04 00:20:00            84.47         0.0  "
      ]
     },
     "metadata": {},
     "output_type": "display_data"
    },
    {
     "data": {
      "text/plain": [
       "(3065, 6)"
      ]
     },
     "metadata": {},
     "output_type": "display_data"
    }
   ],
   "source": [
    "display(test_df_540.head())\n",
    "display(test_df_540.shape)"
   ]
  },
  {
   "cell_type": "code",
   "execution_count": 104,
   "metadata": {},
   "outputs": [
    {
     "data": {
      "text/plain": [
       "(255, 12, 6)"
      ]
     },
     "execution_count": 104,
     "metadata": {},
     "output_type": "execute_result"
    }
   ],
   "source": [
    "test_values_540 = test_df_540.values\n",
    "test_count = 3060\n",
    "test = split_dataset(test_values_540, test_count)\n",
    "test.shape"
   ]
  },
  {
   "cell_type": "code",
   "execution_count": 105,
   "metadata": {},
   "outputs": [
    {
     "name": "stdout",
     "output_type": "stream",
     "text": [
      "Actual Shape : (255, 12)\n",
      "Predicted Shape : (255, 12, 1)\n",
      "==========================\n",
      "RMSE : \n",
      "5 Minutes : 15.0\n",
      "30 Minutes : 32.7\n",
      "60 Minutes : 55.1\n",
      "==========================\n",
      "==========================\n",
      "MAE : \n",
      "5 Minutes : 10.4\n",
      "30 Minutes : 22.9\n",
      "60 Minutes : 36.9\n",
      "===========================\n"
     ]
    }
   ],
   "source": [
    "score, scores, maes = evaluate_model(model, train, test, n_input)\n",
    "summarize_scores('seq2seq_lstm', score, scores, maes)\n",
    "# time_steps = ['5', '10', '15', '20', '25', '30']\n",
    "# plt.plot(time_steps, scores, marker = 'o', label = 'lstm')\n",
    "# plt.show()"
   ]
  },
  {
   "cell_type": "code",
   "execution_count": 106,
   "metadata": {},
   "outputs": [
    {
     "data": {
      "text/html": [
       "<div>\n",
       "<style scoped>\n",
       "    .dataframe tbody tr th:only-of-type {\n",
       "        vertical-align: middle;\n",
       "    }\n",
       "\n",
       "    .dataframe tbody tr th {\n",
       "        vertical-align: top;\n",
       "    }\n",
       "\n",
       "    .dataframe thead th {\n",
       "        text-align: right;\n",
       "    }\n",
       "</style>\n",
       "<table border=\"1\" class=\"dataframe\">\n",
       "  <thead>\n",
       "    <tr style=\"text-align: right;\">\n",
       "      <th></th>\n",
       "      <th>gl_value</th>\n",
       "      <th>fs_value</th>\n",
       "      <th>basel_value</th>\n",
       "      <th>basis_gsr</th>\n",
       "      <th>basis_skin_temp</th>\n",
       "      <th>bolus_dose</th>\n",
       "    </tr>\n",
       "    <tr>\n",
       "      <th>dt</th>\n",
       "      <th></th>\n",
       "      <th></th>\n",
       "      <th></th>\n",
       "      <th></th>\n",
       "      <th></th>\n",
       "      <th></th>\n",
       "    </tr>\n",
       "  </thead>\n",
       "  <tbody>\n",
       "    <tr>\n",
       "      <th>2027-06-24 00:00:00</th>\n",
       "      <td>161.0</td>\n",
       "      <td>66.0</td>\n",
       "      <td>1.7</td>\n",
       "      <td>0.025451</td>\n",
       "      <td>88.290</td>\n",
       "      <td>0.0</td>\n",
       "    </tr>\n",
       "    <tr>\n",
       "      <th>2027-06-24 00:05:00</th>\n",
       "      <td>155.0</td>\n",
       "      <td>66.0</td>\n",
       "      <td>1.7</td>\n",
       "      <td>0.055464</td>\n",
       "      <td>88.888</td>\n",
       "      <td>0.0</td>\n",
       "    </tr>\n",
       "    <tr>\n",
       "      <th>2027-06-24 00:10:00</th>\n",
       "      <td>150.0</td>\n",
       "      <td>66.0</td>\n",
       "      <td>1.7</td>\n",
       "      <td>0.075235</td>\n",
       "      <td>90.964</td>\n",
       "      <td>0.0</td>\n",
       "    </tr>\n",
       "    <tr>\n",
       "      <th>2027-06-24 00:15:00</th>\n",
       "      <td>147.0</td>\n",
       "      <td>66.0</td>\n",
       "      <td>1.7</td>\n",
       "      <td>0.101420</td>\n",
       "      <td>92.132</td>\n",
       "      <td>0.0</td>\n",
       "    </tr>\n",
       "    <tr>\n",
       "      <th>2027-06-24 00:20:00</th>\n",
       "      <td>144.0</td>\n",
       "      <td>66.0</td>\n",
       "      <td>1.7</td>\n",
       "      <td>0.106214</td>\n",
       "      <td>92.680</td>\n",
       "      <td>0.0</td>\n",
       "    </tr>\n",
       "  </tbody>\n",
       "</table>\n",
       "</div>"
      ],
      "text/plain": [
       "                     gl_value  fs_value  basel_value  basis_gsr  \\\n",
       "dt                                                                \n",
       "2027-06-24 00:00:00     161.0      66.0          1.7   0.025451   \n",
       "2027-06-24 00:05:00     155.0      66.0          1.7   0.055464   \n",
       "2027-06-24 00:10:00     150.0      66.0          1.7   0.075235   \n",
       "2027-06-24 00:15:00     147.0      66.0          1.7   0.101420   \n",
       "2027-06-24 00:20:00     144.0      66.0          1.7   0.106214   \n",
       "\n",
       "                     basis_skin_temp  bolus_dose  \n",
       "dt                                                \n",
       "2027-06-24 00:00:00           88.290         0.0  \n",
       "2027-06-24 00:05:00           88.888         0.0  \n",
       "2027-06-24 00:10:00           90.964         0.0  \n",
       "2027-06-24 00:15:00           92.132         0.0  \n",
       "2027-06-24 00:20:00           92.680         0.0  "
      ]
     },
     "metadata": {},
     "output_type": "display_data"
    },
    {
     "data": {
      "text/plain": [
       "(3135, 6)"
      ]
     },
     "metadata": {},
     "output_type": "display_data"
    },
    {
     "data": {
      "text/plain": [
       "(261, 12, 6)"
      ]
     },
     "execution_count": 106,
     "metadata": {},
     "output_type": "execute_result"
    }
   ],
   "source": [
    "test_df_544 = read_csv_file(csv_test_file_path[2])\n",
    "test_df_544 = test_df_544[cols_to_keep]\n",
    "display(test_df_544.head())\n",
    "display(test_df_544.shape)\n",
    "test_values_544 = test_df_544.values\n",
    "test_count = 3132\n",
    "test = split_dataset(test_values_544, test_count)\n",
    "test.shape"
   ]
  },
  {
   "cell_type": "code",
   "execution_count": 107,
   "metadata": {},
   "outputs": [
    {
     "name": "stdout",
     "output_type": "stream",
     "text": [
      "Actual Shape : (261, 12)\n",
      "Predicted Shape : (261, 12, 1)\n",
      "==========================\n",
      "RMSE : \n",
      "5 Minutes : 23.5\n",
      "30 Minutes : 31.5\n",
      "60 Minutes : 64.3\n",
      "==========================\n",
      "==========================\n",
      "MAE : \n",
      "5 Minutes : 11.8\n",
      "30 Minutes : 19.9\n",
      "60 Minutes : 36.8\n",
      "===========================\n"
     ]
    }
   ],
   "source": [
    "score, scores, maes = evaluate_model(model, train, test, n_input)\n",
    "summarize_scores('seq2seq_lstm', score, scores, maes)\n",
    "# time_steps = ['5', '10', '15', '20', '25', '30']\n",
    "# plt.plot(time_steps, scores, marker = 'o', label = 'lstm')\n",
    "# plt.show()"
   ]
  },
  {
   "cell_type": "code",
   "execution_count": 108,
   "metadata": {},
   "outputs": [
    {
     "data": {
      "text/html": [
       "<div>\n",
       "<style scoped>\n",
       "    .dataframe tbody tr th:only-of-type {\n",
       "        vertical-align: middle;\n",
       "    }\n",
       "\n",
       "    .dataframe tbody tr th {\n",
       "        vertical-align: top;\n",
       "    }\n",
       "\n",
       "    .dataframe thead th {\n",
       "        text-align: right;\n",
       "    }\n",
       "</style>\n",
       "<table border=\"1\" class=\"dataframe\">\n",
       "  <thead>\n",
       "    <tr style=\"text-align: right;\">\n",
       "      <th></th>\n",
       "      <th>gl_value</th>\n",
       "      <th>fs_value</th>\n",
       "      <th>basel_value</th>\n",
       "      <th>basis_gsr</th>\n",
       "      <th>basis_skin_temp</th>\n",
       "      <th>bolus_dose</th>\n",
       "    </tr>\n",
       "    <tr>\n",
       "      <th>dt</th>\n",
       "      <th></th>\n",
       "      <th></th>\n",
       "      <th></th>\n",
       "      <th></th>\n",
       "      <th></th>\n",
       "      <th></th>\n",
       "    </tr>\n",
       "  </thead>\n",
       "  <tbody>\n",
       "    <tr>\n",
       "      <th>2027-05-27 00:00:00</th>\n",
       "      <td>174.0</td>\n",
       "      <td>183.0</td>\n",
       "      <td>0.4</td>\n",
       "      <td>0.011845</td>\n",
       "      <td>84.49</td>\n",
       "      <td>0.0</td>\n",
       "    </tr>\n",
       "    <tr>\n",
       "      <th>2027-05-27 00:05:00</th>\n",
       "      <td>173.0</td>\n",
       "      <td>183.0</td>\n",
       "      <td>0.4</td>\n",
       "      <td>0.011845</td>\n",
       "      <td>84.49</td>\n",
       "      <td>0.0</td>\n",
       "    </tr>\n",
       "    <tr>\n",
       "      <th>2027-05-27 00:10:00</th>\n",
       "      <td>173.0</td>\n",
       "      <td>183.0</td>\n",
       "      <td>0.4</td>\n",
       "      <td>0.011845</td>\n",
       "      <td>84.49</td>\n",
       "      <td>0.0</td>\n",
       "    </tr>\n",
       "    <tr>\n",
       "      <th>2027-05-27 00:15:00</th>\n",
       "      <td>172.0</td>\n",
       "      <td>183.0</td>\n",
       "      <td>0.4</td>\n",
       "      <td>0.011845</td>\n",
       "      <td>84.49</td>\n",
       "      <td>0.0</td>\n",
       "    </tr>\n",
       "    <tr>\n",
       "      <th>2027-05-27 00:20:00</th>\n",
       "      <td>170.0</td>\n",
       "      <td>183.0</td>\n",
       "      <td>0.4</td>\n",
       "      <td>0.011845</td>\n",
       "      <td>84.49</td>\n",
       "      <td>0.0</td>\n",
       "    </tr>\n",
       "  </tbody>\n",
       "</table>\n",
       "</div>"
      ],
      "text/plain": [
       "                     gl_value  fs_value  basel_value  basis_gsr  \\\n",
       "dt                                                                \n",
       "2027-05-27 00:00:00     174.0     183.0          0.4   0.011845   \n",
       "2027-05-27 00:05:00     173.0     183.0          0.4   0.011845   \n",
       "2027-05-27 00:10:00     173.0     183.0          0.4   0.011845   \n",
       "2027-05-27 00:15:00     172.0     183.0          0.4   0.011845   \n",
       "2027-05-27 00:20:00     170.0     183.0          0.4   0.011845   \n",
       "\n",
       "                     basis_skin_temp  bolus_dose  \n",
       "dt                                                \n",
       "2027-05-27 00:00:00            84.49         0.0  \n",
       "2027-05-27 00:05:00            84.49         0.0  \n",
       "2027-05-27 00:10:00            84.49         0.0  \n",
       "2027-05-27 00:15:00            84.49         0.0  \n",
       "2027-05-27 00:20:00            84.49         0.0  "
      ]
     },
     "metadata": {},
     "output_type": "display_data"
    },
    {
     "data": {
      "text/plain": [
       "(3002, 6)"
      ]
     },
     "metadata": {},
     "output_type": "display_data"
    },
    {
     "data": {
      "text/plain": [
       "(250, 12, 6)"
      ]
     },
     "execution_count": 108,
     "metadata": {},
     "output_type": "execute_result"
    }
   ],
   "source": [
    "test_df_596 = read_csv_file(csv_test_file_path[4])\n",
    "test_df_596 = test_df_596[cols_to_keep]\n",
    "display(test_df_596.head())\n",
    "display(test_df_596.shape)\n",
    "test_values_596 = test_df_596.values\n",
    "test_count = 3000\n",
    "test = split_dataset(test_values_596, test_count)\n",
    "test.shape"
   ]
  },
  {
   "cell_type": "code",
   "execution_count": 109,
   "metadata": {},
   "outputs": [
    {
     "name": "stdout",
     "output_type": "stream",
     "text": [
      "Actual Shape : (250, 12)\n",
      "Predicted Shape : (250, 12, 1)\n",
      "==========================\n",
      "RMSE : \n",
      "5 Minutes : 8.2\n",
      "30 Minutes : 18.0\n",
      "60 Minutes : 29.9\n",
      "==========================\n",
      "==========================\n",
      "MAE : \n",
      "5 Minutes : 5.7\n",
      "30 Minutes : 12.8\n",
      "60 Minutes : 22.2\n",
      "===========================\n"
     ]
    }
   ],
   "source": [
    "score, scores, maes = evaluate_model(model, train, test, n_input)\n",
    "summarize_scores('seq2seq_lstm', score, scores, maes)\n",
    "# time_steps = ['5', '10', '15', '20', '25', '30']\n",
    "# plt.plot(time_steps, scores, marker = 'o', label = 'lstm')\n",
    "# plt.show()"
   ]
  },
  {
   "cell_type": "code",
   "execution_count": 110,
   "metadata": {},
   "outputs": [
    {
     "data": {
      "text/html": [
       "<div>\n",
       "<style scoped>\n",
       "    .dataframe tbody tr th:only-of-type {\n",
       "        vertical-align: middle;\n",
       "    }\n",
       "\n",
       "    .dataframe tbody tr th {\n",
       "        vertical-align: top;\n",
       "    }\n",
       "\n",
       "    .dataframe thead th {\n",
       "        text-align: right;\n",
       "    }\n",
       "</style>\n",
       "<table border=\"1\" class=\"dataframe\">\n",
       "  <thead>\n",
       "    <tr style=\"text-align: right;\">\n",
       "      <th></th>\n",
       "      <th>gl_value</th>\n",
       "      <th>fs_value</th>\n",
       "      <th>basel_value</th>\n",
       "      <th>basis_gsr</th>\n",
       "      <th>basis_skin_temp</th>\n",
       "      <th>bolus_dose</th>\n",
       "    </tr>\n",
       "    <tr>\n",
       "      <th>dt</th>\n",
       "      <th></th>\n",
       "      <th></th>\n",
       "      <th></th>\n",
       "      <th></th>\n",
       "      <th></th>\n",
       "      <th></th>\n",
       "    </tr>\n",
       "  </thead>\n",
       "  <tbody>\n",
       "    <tr>\n",
       "      <th>2025-06-29 00:00:00</th>\n",
       "      <td>243.0</td>\n",
       "      <td>262.0</td>\n",
       "      <td>1.75</td>\n",
       "      <td>0.141934</td>\n",
       "      <td>85.9125</td>\n",
       "      <td>0.0</td>\n",
       "    </tr>\n",
       "    <tr>\n",
       "      <th>2025-06-29 00:05:00</th>\n",
       "      <td>253.0</td>\n",
       "      <td>262.0</td>\n",
       "      <td>1.75</td>\n",
       "      <td>0.130756</td>\n",
       "      <td>85.8540</td>\n",
       "      <td>0.0</td>\n",
       "    </tr>\n",
       "    <tr>\n",
       "      <th>2025-06-29 00:10:00</th>\n",
       "      <td>262.0</td>\n",
       "      <td>262.0</td>\n",
       "      <td>1.75</td>\n",
       "      <td>0.123876</td>\n",
       "      <td>85.8220</td>\n",
       "      <td>0.0</td>\n",
       "    </tr>\n",
       "    <tr>\n",
       "      <th>2025-06-29 00:15:00</th>\n",
       "      <td>269.0</td>\n",
       "      <td>262.0</td>\n",
       "      <td>1.75</td>\n",
       "      <td>0.122054</td>\n",
       "      <td>85.8380</td>\n",
       "      <td>0.0</td>\n",
       "    </tr>\n",
       "    <tr>\n",
       "      <th>2025-06-29 00:20:00</th>\n",
       "      <td>269.0</td>\n",
       "      <td>262.0</td>\n",
       "      <td>1.75</td>\n",
       "      <td>0.135822</td>\n",
       "      <td>85.8760</td>\n",
       "      <td>0.0</td>\n",
       "    </tr>\n",
       "  </tbody>\n",
       "</table>\n",
       "</div>"
      ],
      "text/plain": [
       "                     gl_value  fs_value  basel_value  basis_gsr  \\\n",
       "dt                                                                \n",
       "2025-06-29 00:00:00     243.0     262.0         1.75   0.141934   \n",
       "2025-06-29 00:05:00     253.0     262.0         1.75   0.130756   \n",
       "2025-06-29 00:10:00     262.0     262.0         1.75   0.123876   \n",
       "2025-06-29 00:15:00     269.0     262.0         1.75   0.122054   \n",
       "2025-06-29 00:20:00     269.0     262.0         1.75   0.135822   \n",
       "\n",
       "                     basis_skin_temp  bolus_dose  \n",
       "dt                                                \n",
       "2025-06-29 00:00:00          85.9125         0.0  \n",
       "2025-06-29 00:05:00          85.8540         0.0  \n",
       "2025-06-29 00:10:00          85.8220         0.0  \n",
       "2025-06-29 00:15:00          85.8380         0.0  \n",
       "2025-06-29 00:20:00          85.8760         0.0  "
      ]
     },
     "metadata": {},
     "output_type": "display_data"
    },
    {
     "data": {
      "text/plain": [
       "(2994, 6)"
      ]
     },
     "metadata": {},
     "output_type": "display_data"
    },
    {
     "data": {
      "text/plain": [
       "(249, 12, 6)"
      ]
     },
     "execution_count": 110,
     "metadata": {},
     "output_type": "execute_result"
    }
   ],
   "source": [
    "test_df_584 = read_csv_file(csv_test_file_path[0])\n",
    "test_df_584 = test_df_584[cols_to_keep]\n",
    "display(test_df_584.head())\n",
    "display(test_df_584.shape)\n",
    "test_values_584 = test_df_584.values\n",
    "test_count = 2988\n",
    "test = split_dataset(test_values_584, test_count)\n",
    "test.shape"
   ]
  },
  {
   "cell_type": "code",
   "execution_count": 111,
   "metadata": {},
   "outputs": [
    {
     "name": "stdout",
     "output_type": "stream",
     "text": [
      "Actual Shape : (249, 12)\n",
      "Predicted Shape : (249, 12, 1)\n",
      "==========================\n",
      "RMSE : \n",
      "5 Minutes : 48.0\n",
      "30 Minutes : 37.3\n",
      "60 Minutes : 58.5\n",
      "==========================\n",
      "==========================\n",
      "MAE : \n",
      "5 Minutes : 22.2\n",
      "30 Minutes : 23.9\n",
      "60 Minutes : 38.2\n",
      "===========================\n"
     ]
    }
   ],
   "source": [
    "score, scores, maes = evaluate_model(model, train, test, n_input)\n",
    "summarize_scores('seq2seq_lstm', score, scores, maes)\n",
    "# time_steps = ['5', '10', '15', '20', '25', '30']\n",
    "# plt.plot(time_steps, scores, marker = 'o', label = 'lstm')\n",
    "# plt.show()"
   ]
  },
  {
   "cell_type": "code",
   "execution_count": 112,
   "metadata": {},
   "outputs": [
    {
     "data": {
      "text/html": [
       "<div>\n",
       "<style scoped>\n",
       "    .dataframe tbody tr th:only-of-type {\n",
       "        vertical-align: middle;\n",
       "    }\n",
       "\n",
       "    .dataframe tbody tr th {\n",
       "        vertical-align: top;\n",
       "    }\n",
       "\n",
       "    .dataframe thead th {\n",
       "        text-align: right;\n",
       "    }\n",
       "</style>\n",
       "<table border=\"1\" class=\"dataframe\">\n",
       "  <thead>\n",
       "    <tr style=\"text-align: right;\">\n",
       "      <th></th>\n",
       "      <th>gl_value</th>\n",
       "      <th>fs_value</th>\n",
       "      <th>basel_value</th>\n",
       "      <th>basis_gsr</th>\n",
       "      <th>basis_skin_temp</th>\n",
       "      <th>bolus_dose</th>\n",
       "    </tr>\n",
       "    <tr>\n",
       "      <th>dt</th>\n",
       "      <th></th>\n",
       "      <th></th>\n",
       "      <th></th>\n",
       "      <th></th>\n",
       "      <th></th>\n",
       "      <th></th>\n",
       "    </tr>\n",
       "  </thead>\n",
       "  <tbody>\n",
       "    <tr>\n",
       "      <th>2025-05-25 00:00:00</th>\n",
       "      <td>181.0</td>\n",
       "      <td>112.0</td>\n",
       "      <td>1.1</td>\n",
       "      <td>0.006013</td>\n",
       "      <td>85.94</td>\n",
       "      <td>2.025</td>\n",
       "    </tr>\n",
       "    <tr>\n",
       "      <th>2025-05-25 00:05:00</th>\n",
       "      <td>180.0</td>\n",
       "      <td>112.0</td>\n",
       "      <td>1.1</td>\n",
       "      <td>0.006013</td>\n",
       "      <td>85.94</td>\n",
       "      <td>0.000</td>\n",
       "    </tr>\n",
       "    <tr>\n",
       "      <th>2025-05-25 00:10:00</th>\n",
       "      <td>178.0</td>\n",
       "      <td>112.0</td>\n",
       "      <td>1.1</td>\n",
       "      <td>0.006013</td>\n",
       "      <td>85.94</td>\n",
       "      <td>0.000</td>\n",
       "    </tr>\n",
       "    <tr>\n",
       "      <th>2025-05-25 00:15:00</th>\n",
       "      <td>178.0</td>\n",
       "      <td>112.0</td>\n",
       "      <td>1.1</td>\n",
       "      <td>0.006013</td>\n",
       "      <td>85.94</td>\n",
       "      <td>0.000</td>\n",
       "    </tr>\n",
       "    <tr>\n",
       "      <th>2025-05-25 00:20:00</th>\n",
       "      <td>176.0</td>\n",
       "      <td>112.0</td>\n",
       "      <td>1.1</td>\n",
       "      <td>0.006013</td>\n",
       "      <td>85.94</td>\n",
       "      <td>0.000</td>\n",
       "    </tr>\n",
       "  </tbody>\n",
       "</table>\n",
       "</div>"
      ],
      "text/plain": [
       "                     gl_value  fs_value  basel_value  basis_gsr  \\\n",
       "dt                                                                \n",
       "2025-05-25 00:00:00     181.0     112.0          1.1   0.006013   \n",
       "2025-05-25 00:05:00     180.0     112.0          1.1   0.006013   \n",
       "2025-05-25 00:10:00     178.0     112.0          1.1   0.006013   \n",
       "2025-05-25 00:15:00     178.0     112.0          1.1   0.006013   \n",
       "2025-05-25 00:20:00     176.0     112.0          1.1   0.006013   \n",
       "\n",
       "                     basis_skin_temp  bolus_dose  \n",
       "dt                                                \n",
       "2025-05-25 00:00:00            85.94       2.025  \n",
       "2025-05-25 00:05:00            85.94       0.000  \n",
       "2025-05-25 00:10:00            85.94       0.000  \n",
       "2025-05-25 00:15:00            85.94       0.000  \n",
       "2025-05-25 00:20:00            85.94       0.000  "
      ]
     },
     "metadata": {},
     "output_type": "display_data"
    },
    {
     "data": {
      "text/plain": [
       "(3949, 6)"
      ]
     },
     "metadata": {},
     "output_type": "display_data"
    },
    {
     "data": {
      "text/plain": [
       "(329, 12, 6)"
      ]
     },
     "execution_count": 112,
     "metadata": {},
     "output_type": "execute_result"
    }
   ],
   "source": [
    "test_df_552 = read_csv_file(csv_test_file_path[3])\n",
    "test_df_552 = test_df_552[cols_to_keep]\n",
    "display(test_df_552.head())\n",
    "display(test_df_552.shape)\n",
    "test_values_552 = test_df_552.values\n",
    "test_count = 3948\n",
    "test = split_dataset(test_values_552, test_count)\n",
    "test.shape"
   ]
  },
  {
   "cell_type": "code",
   "execution_count": 113,
   "metadata": {},
   "outputs": [
    {
     "name": "stdout",
     "output_type": "stream",
     "text": [
      "Actual Shape : (329, 12)\n",
      "Predicted Shape : (329, 12, 1)\n",
      "==========================\n",
      "RMSE : \n",
      "5 Minutes : 7.1\n",
      "30 Minutes : 14.3\n",
      "60 Minutes : 25.0\n",
      "==========================\n",
      "==========================\n",
      "MAE : \n",
      "5 Minutes : 5.2\n",
      "30 Minutes : 9.5\n",
      "60 Minutes : 18.2\n",
      "===========================\n"
     ]
    }
   ],
   "source": [
    "score, scores, maes = evaluate_model(model, train, test, n_input)\n",
    "summarize_scores('seq2seq_lstm', score, scores, maes)\n",
    "# time_steps = ['5', '10', '15', '20', '25', '30']\n",
    "# plt.plot(time_steps, scores, marker = 'o', label = 'lstm')\n",
    "# plt.show()"
   ]
  },
  {
   "cell_type": "code",
   "execution_count": null,
   "metadata": {},
   "outputs": [],
   "source": []
  }
 ],
 "metadata": {
  "kernelspec": {
   "display_name": "Python 3",
   "language": "python",
   "name": "python3"
  },
  "language_info": {
   "codemirror_mode": {
    "name": "ipython",
    "version": 3
   },
   "file_extension": ".py",
   "mimetype": "text/x-python",
   "name": "python",
   "nbconvert_exporter": "python",
   "pygments_lexer": "ipython3",
   "version": "3.6.9"
  }
 },
 "nbformat": 4,
 "nbformat_minor": 4
}
