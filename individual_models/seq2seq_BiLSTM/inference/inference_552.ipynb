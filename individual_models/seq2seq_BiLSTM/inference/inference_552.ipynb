{
 "cells": [
  {
   "cell_type": "code",
   "execution_count": 1,
   "metadata": {},
   "outputs": [],
   "source": [
    "test_dir = '../../5_min_complete_dataset_testing/'\n",
    "train_dir = '../../5_min_complete_dataset/'"
   ]
  },
  {
   "cell_type": "code",
   "execution_count": 2,
   "metadata": {},
   "outputs": [],
   "source": [
    "import os\n",
    "import csv"
   ]
  },
  {
   "cell_type": "code",
   "execution_count": 3,
   "metadata": {},
   "outputs": [],
   "source": [
    "test_dir_path = os.path.abspath(test_dir)\n",
    "train_dir_path = os.path.abspath(train_dir)"
   ]
  },
  {
   "cell_type": "code",
   "execution_count": 4,
   "metadata": {},
   "outputs": [
    {
     "name": "stderr",
     "output_type": "stream",
     "text": [
      "Using TensorFlow backend.\n"
     ]
    }
   ],
   "source": [
    "import pandas as pd\n",
    "from numpy import nan\n",
    "from numpy import isnan\n",
    "import numpy as np\n",
    "from math import sqrt\n",
    "from numpy import split\n",
    "from numpy import array\n",
    "import sys\n",
    "from scipy.stats import randint\n",
    "import pandas as pd # data processing, CSV file I/O (e.g. pd.read_csv), data manipulation as in SQL\n",
    "import matplotlib.pyplot as plt # this is used for the plot the graph \n",
    "import seaborn as sns # used for plot interactive graph. \n",
    "from sklearn.model_selection import train_test_split, KFold # to split the data into two parts\n",
    "from sklearn.preprocessing import StandardScaler # for normalization\n",
    "from sklearn.preprocessing import MinMaxScaler\n",
    "from sklearn.pipeline import Pipeline # pipeline making\n",
    "from sklearn.model_selection import cross_val_score\n",
    "from sklearn.feature_selection import SelectFromModel\n",
    "from sklearn import metrics # for the check the error and accuracy of the model\n",
    "from sklearn.metrics import mean_squared_error, r2_score, mean_absolute_error\n",
    "\n",
    "\n",
    "#Deep learning specific\n",
    "\n",
    "import keras\n",
    "from keras import regularizers\n",
    "import itertools\n",
    "from keras.layers import Dense, Dropout, LSTM, Bidirectional, RepeatVector, TimeDistributed, Flatten, BatchNormalization\n",
    "from keras.models import Sequential, load_model\n",
    "from keras.utils import to_categorical\n",
    "from keras.optimizers import SGD, Adam\n",
    "from keras.callbacks import EarlyStopping\n",
    "from keras.utils import np_utils\n",
    "from keras.layers.convolutional import Conv1D\n",
    "from keras.layers.convolutional import MaxPooling1D\n",
    "from keras.layers import ConvLSTM2D"
   ]
  },
  {
   "cell_type": "code",
   "execution_count": 5,
   "metadata": {},
   "outputs": [],
   "source": [
    "plt.rcParams['figure.figsize'] = [90, 45]\n",
    "plt.rcParams['font.size'] = 40"
   ]
  },
  {
   "cell_type": "code",
   "execution_count": 6,
   "metadata": {},
   "outputs": [],
   "source": [
    "def split_dataset(data, count):\n",
    "    train = data[0:count]\n",
    "    # restructure into windows of 60 min data\n",
    "    train = array(split(train, len(train)/12))\n",
    "    return train"
   ]
  },
  {
   "cell_type": "code",
   "execution_count": 7,
   "metadata": {},
   "outputs": [],
   "source": [
    "def read_csv_file(filepath):\n",
    "    df = pd.read_csv(filepath, sep = ',', parse_dates = {'dt' : ['time']}, infer_datetime_format=True, \n",
    "                 low_memory = False, na_values=['nan'], index_col = 'dt')\n",
    "    df.drop(['gl_predict'], inplace = True, axis = 1)\n",
    "    return df"
   ]
  },
  {
   "cell_type": "code",
   "execution_count": 8,
   "metadata": {},
   "outputs": [],
   "source": [
    "def evaluate_forecasts(actual, predicted):\n",
    "    print(\"Actual Shape : {}\".format(actual.shape))\n",
    "    print(\"Predicted Shape : {}\".format(predicted.shape))\n",
    "    scores = list()\n",
    "    maes = list()\n",
    "    for i in range(actual.shape[1]):\n",
    "        mse = mean_squared_error(actual[:, i], predicted[:, i])\n",
    "        mae = mean_absolute_error(actual[:, i], predicted[:, i])\n",
    "        rmse = sqrt(mse)\n",
    "        maes.append(mae)\n",
    "        scores.append(rmse)\n",
    "    s = 0\n",
    "    for row in range(actual.shape[0]):\n",
    "        for col in range(actual.shape[1]):\n",
    "            s += (actual[row, col] - predicted[row, col])**2\n",
    "    score = sqrt(s / (actual.shape[0] * actual.shape[1]))\n",
    "    return score, scores, maes"
   ]
  },
  {
   "cell_type": "code",
   "execution_count": 9,
   "metadata": {},
   "outputs": [],
   "source": [
    "def summarize_scores(name, score, scores, maes):\n",
    "    rmse_05_min = scores[0]\n",
    "    rmse_30_min = scores[5]\n",
    "    rmse_60_min = scores[11]\n",
    "    mae_05_min = maes[0]\n",
    "    mae_30_min = maes[5]\n",
    "    mae_60_min = maes[11]\n",
    "    print(\"==========================\")\n",
    "    print(\"RMSE : \")\n",
    "    print(\"5 Minutes : {0:0.1f}\".format(rmse_05_min))\n",
    "    print(\"30 Minutes : {0:0.1f}\".format(rmse_30_min))\n",
    "    print(\"60 Minutes : {0:0.1f}\".format(rmse_60_min))\n",
    "    print(\"==========================\")\n",
    "    print(\"==========================\")\n",
    "    print(\"MAE : \")\n",
    "    print(\"5 Minutes : {0:0.1f}\".format(mae_05_min))\n",
    "    print(\"30 Minutes : {0:0.1f}\".format(mae_30_min))\n",
    "    print(\"60 Minutes : {0:0.1f}\".format(mae_60_min))\n",
    "    print(\"===========================\")"
   ]
  },
  {
   "cell_type": "code",
   "execution_count": 10,
   "metadata": {},
   "outputs": [],
   "source": [
    "def forecast(model, history, n_input):\n",
    "    data = array(history)\n",
    "    data = data.reshape((data.shape[0]*data.shape[1], data.shape[2]))\n",
    "    # retrieve last observations for input data\n",
    "    input_x = data[-n_input:, :]\n",
    "    # reshape into [1, n_input, n]\n",
    "    input_x = input_x.reshape((1, input_x.shape[0], input_x.shape[1]))\n",
    "    # forecast the next 30 mins\n",
    "    yhat = model.predict(input_x, verbose=0)\n",
    "    # we only want the vector forecast\n",
    "    yhat = yhat[0]\n",
    "    return yhat"
   ]
  },
  {
   "cell_type": "code",
   "execution_count": 11,
   "metadata": {},
   "outputs": [],
   "source": [
    "def evaluate_model(model, train, test, n_input):\n",
    "    history = [x for x in train]\n",
    "    # walk-forward validation over each week\n",
    "    predictions = []\n",
    "    for i in range(len(test)):\n",
    "        # predict the 30 mins\n",
    "        yhat_sequence = forecast(model, history, n_input)\n",
    "        # store the predictions\n",
    "        predictions.append(yhat_sequence)\n",
    "        # get real observation and add to history for predicting the next 30 mins\n",
    "        history.append(test[i, :])\n",
    "    # evaluate predictions days for each 30 mins\n",
    "    predictions = array(predictions)\n",
    "    score, scores, maes = evaluate_forecasts(test[:, :, 0], predictions)\n",
    "\n",
    "    return score, scores, maes, predictions, test[:, :, 0]"
   ]
  },
  {
   "cell_type": "code",
   "execution_count": 12,
   "metadata": {},
   "outputs": [],
   "source": [
    "csv_train_file_path = [os.path.join(train_dir_path, item) for item in os.listdir(train_dir_path)]\n",
    "csv_test_file_path = [os.path.join(test_dir_path, item) for item in os.listdir(test_dir_path)]"
   ]
  },
  {
   "cell_type": "code",
   "execution_count": 13,
   "metadata": {},
   "outputs": [
    {
     "data": {
      "text/plain": [
       "['/KDH2020/KDH2020_BGLP_Challenge/practice/final_submission/5_min_complete_dataset_testing/584-ws-testing.csv',\n",
       " '/KDH2020/KDH2020_BGLP_Challenge/practice/final_submission/5_min_complete_dataset_testing/540-ws-testing.csv',\n",
       " '/KDH2020/KDH2020_BGLP_Challenge/practice/final_submission/5_min_complete_dataset_testing/544-ws-testing.csv',\n",
       " '/KDH2020/KDH2020_BGLP_Challenge/practice/final_submission/5_min_complete_dataset_testing/552-ws-testing.csv',\n",
       " '/KDH2020/KDH2020_BGLP_Challenge/practice/final_submission/5_min_complete_dataset_testing/596-ws-testing.csv',\n",
       " '/KDH2020/KDH2020_BGLP_Challenge/practice/final_submission/5_min_complete_dataset_testing/567-ws-testing.csv']"
      ]
     },
     "execution_count": 13,
     "metadata": {},
     "output_type": "execute_result"
    }
   ],
   "source": [
    "csv_test_file_path"
   ]
  },
  {
   "cell_type": "code",
   "execution_count": 14,
   "metadata": {},
   "outputs": [
    {
     "data": {
      "text/plain": [
       "['/KDH2020/KDH2020_BGLP_Challenge/practice/final_submission/5_min_complete_dataset/567-ws-training.csv',\n",
       " '/KDH2020/KDH2020_BGLP_Challenge/practice/final_submission/5_min_complete_dataset/563-ws-training.csv',\n",
       " '/KDH2020/KDH2020_BGLP_Challenge/practice/final_submission/5_min_complete_dataset/540-ws-training.csv',\n",
       " '/KDH2020/KDH2020_BGLP_Challenge/practice/final_submission/5_min_complete_dataset/570-ws-training.csv',\n",
       " '/KDH2020/KDH2020_BGLP_Challenge/practice/final_submission/5_min_complete_dataset/559-ws-training.csv',\n",
       " '/KDH2020/KDH2020_BGLP_Challenge/practice/final_submission/5_min_complete_dataset/575-ws-training.csv',\n",
       " '/KDH2020/KDH2020_BGLP_Challenge/practice/final_submission/5_min_complete_dataset/544-ws-training.csv',\n",
       " '/KDH2020/KDH2020_BGLP_Challenge/practice/final_submission/5_min_complete_dataset/596-ws-training.csv',\n",
       " '/KDH2020/KDH2020_BGLP_Challenge/practice/final_submission/5_min_complete_dataset/591-ws-training.csv',\n",
       " '/KDH2020/KDH2020_BGLP_Challenge/practice/final_submission/5_min_complete_dataset/588-ws-training.csv',\n",
       " '/KDH2020/KDH2020_BGLP_Challenge/practice/final_submission/5_min_complete_dataset/584-ws-training.csv',\n",
       " '/KDH2020/KDH2020_BGLP_Challenge/practice/final_submission/5_min_complete_dataset/552-ws-training.csv']"
      ]
     },
     "execution_count": 14,
     "metadata": {},
     "output_type": "execute_result"
    }
   ],
   "source": [
    "csv_train_file_path"
   ]
  },
  {
   "cell_type": "code",
   "execution_count": 15,
   "metadata": {},
   "outputs": [],
   "source": [
    "train_df_552 = read_csv_file(csv_train_file_path[11])\n",
    "test_df_552 = read_csv_file(csv_test_file_path[3])\n",
    "\n",
    "train_df_552.drop(['meal_type_Lunch'], inplace = True, axis = 1)"
   ]
  },
  {
   "cell_type": "code",
   "execution_count": 16,
   "metadata": {},
   "outputs": [
    {
     "name": "stdout",
     "output_type": "stream",
     "text": [
      "(924, 12, 20)\n",
      "(329, 12, 20)\n"
     ]
    }
   ],
   "source": [
    "train_values_552 = train_df_552.values\n",
    "test_values_552 = test_df_552.values\n",
    "\n",
    "train = split_dataset(train_values_552, 11088)\n",
    "test = split_dataset(test_values_552, 3948)\n",
    "\n",
    "print(train.shape)\n",
    "print(test.shape)"
   ]
  },
  {
   "cell_type": "code",
   "execution_count": 17,
   "metadata": {},
   "outputs": [],
   "source": [
    "model_552 = load_model('552_bi_lstm_encoder_decoder_final.h5')"
   ]
  },
  {
   "cell_type": "code",
   "execution_count": 18,
   "metadata": {},
   "outputs": [
    {
     "name": "stdout",
     "output_type": "stream",
     "text": [
      "Actual Shape : (329, 12)\n",
      "Predicted Shape : (329, 12, 1)\n"
     ]
    }
   ],
   "source": [
    "score, scores, maes, predictions, actual = evaluate_model(model_552, train, test, 6)"
   ]
  },
  {
   "cell_type": "code",
   "execution_count": 19,
   "metadata": {},
   "outputs": [
    {
     "name": "stdout",
     "output_type": "stream",
     "text": [
      "==========================\n",
      "RMSE : \n",
      "5 Minutes : 5.8\n",
      "30 Minutes : 14.1\n",
      "60 Minutes : 24.8\n",
      "==========================\n",
      "==========================\n",
      "MAE : \n",
      "5 Minutes : 4.1\n",
      "30 Minutes : 10.6\n",
      "60 Minutes : 19.0\n",
      "===========================\n"
     ]
    }
   ],
   "source": [
    "summarize_scores('seq2seq_bilstm', score, scores, maes)"
   ]
  },
  {
   "cell_type": "code",
   "execution_count": 20,
   "metadata": {},
   "outputs": [],
   "source": [
    "pred = np.reshape(predictions, (predictions.shape[0]*predictions.shape[1]))"
   ]
  },
  {
   "cell_type": "code",
   "execution_count": 21,
   "metadata": {},
   "outputs": [],
   "source": [
    "act = np.reshape(actual, (actual.shape[0]*actual.shape[1]))"
   ]
  },
  {
   "cell_type": "code",
   "execution_count": 22,
   "metadata": {},
   "outputs": [],
   "source": [
    "#timestamp_col = ['{:%Y-%m-%d %H:%M:%S}'.format(item) for item in list(test_df_567.index.to_pydatetime())]\n",
    "timestamp_col = [pd.to_datetime(item) for item in list(test_df_552.index.to_pydatetime())]"
   ]
  },
  {
   "cell_type": "code",
   "execution_count": 23,
   "metadata": {},
   "outputs": [
    {
     "data": {
      "text/plain": [
       "3948"
      ]
     },
     "execution_count": 23,
     "metadata": {},
     "output_type": "execute_result"
    }
   ],
   "source": [
    "timestamp_col = timestamp_col[:-1]\n",
    "len(timestamp_col)"
   ]
  },
  {
   "cell_type": "code",
   "execution_count": 24,
   "metadata": {},
   "outputs": [],
   "source": [
    "df = pd.DataFrame({\n",
    "    'timestamp' : timestamp_col,\n",
    "    'predicted_BGL' : pred,\n",
    "    'actual_BGL' : act\n",
    "})"
   ]
  },
  {
   "cell_type": "code",
   "execution_count": 25,
   "metadata": {},
   "outputs": [
    {
     "data": {
      "text/html": [
       "<div>\n",
       "<style scoped>\n",
       "    .dataframe tbody tr th:only-of-type {\n",
       "        vertical-align: middle;\n",
       "    }\n",
       "\n",
       "    .dataframe tbody tr th {\n",
       "        vertical-align: top;\n",
       "    }\n",
       "\n",
       "    .dataframe thead th {\n",
       "        text-align: right;\n",
       "    }\n",
       "</style>\n",
       "<table border=\"1\" class=\"dataframe\">\n",
       "  <thead>\n",
       "    <tr style=\"text-align: right;\">\n",
       "      <th></th>\n",
       "      <th>timestamp</th>\n",
       "      <th>predicted_BGL</th>\n",
       "      <th>actual_BGL</th>\n",
       "    </tr>\n",
       "  </thead>\n",
       "  <tbody>\n",
       "    <tr>\n",
       "      <th>0</th>\n",
       "      <td>2025-05-25 00:00:00</td>\n",
       "      <td>205.518219</td>\n",
       "      <td>181.0</td>\n",
       "    </tr>\n",
       "    <tr>\n",
       "      <th>1</th>\n",
       "      <td>2025-05-25 00:05:00</td>\n",
       "      <td>197.817764</td>\n",
       "      <td>180.0</td>\n",
       "    </tr>\n",
       "    <tr>\n",
       "      <th>2</th>\n",
       "      <td>2025-05-25 00:10:00</td>\n",
       "      <td>190.748840</td>\n",
       "      <td>178.0</td>\n",
       "    </tr>\n",
       "    <tr>\n",
       "      <th>3</th>\n",
       "      <td>2025-05-25 00:15:00</td>\n",
       "      <td>187.622757</td>\n",
       "      <td>178.0</td>\n",
       "    </tr>\n",
       "    <tr>\n",
       "      <th>4</th>\n",
       "      <td>2025-05-25 00:20:00</td>\n",
       "      <td>183.755463</td>\n",
       "      <td>176.0</td>\n",
       "    </tr>\n",
       "  </tbody>\n",
       "</table>\n",
       "</div>"
      ],
      "text/plain": [
       "            timestamp  predicted_BGL  actual_BGL\n",
       "0 2025-05-25 00:00:00     205.518219       181.0\n",
       "1 2025-05-25 00:05:00     197.817764       180.0\n",
       "2 2025-05-25 00:10:00     190.748840       178.0\n",
       "3 2025-05-25 00:15:00     187.622757       178.0\n",
       "4 2025-05-25 00:20:00     183.755463       176.0"
      ]
     },
     "execution_count": 25,
     "metadata": {},
     "output_type": "execute_result"
    }
   ],
   "source": [
    "df.head()"
   ]
  },
  {
   "cell_type": "code",
   "execution_count": 26,
   "metadata": {},
   "outputs": [],
   "source": [
    "df.to_csv('552_seq2seq_bi_lstm_5_min.csv', sep=' ', index = False, quoting=0)"
   ]
  },
  {
   "cell_type": "code",
   "execution_count": 27,
   "metadata": {},
   "outputs": [],
   "source": [
    "df_30 = pd.DataFrame({\n",
    "    'timestamp' : timestamp_col[::6],\n",
    "    'predicted_BGL' : pred[::6],\n",
    "    'actual_BGL' : act[::6]\n",
    "})"
   ]
  },
  {
   "cell_type": "code",
   "execution_count": 28,
   "metadata": {},
   "outputs": [
    {
     "data": {
      "text/html": [
       "<div>\n",
       "<style scoped>\n",
       "    .dataframe tbody tr th:only-of-type {\n",
       "        vertical-align: middle;\n",
       "    }\n",
       "\n",
       "    .dataframe tbody tr th {\n",
       "        vertical-align: top;\n",
       "    }\n",
       "\n",
       "    .dataframe thead th {\n",
       "        text-align: right;\n",
       "    }\n",
       "</style>\n",
       "<table border=\"1\" class=\"dataframe\">\n",
       "  <thead>\n",
       "    <tr style=\"text-align: right;\">\n",
       "      <th></th>\n",
       "      <th>timestamp</th>\n",
       "      <th>predicted_BGL</th>\n",
       "      <th>actual_BGL</th>\n",
       "    </tr>\n",
       "  </thead>\n",
       "  <tbody>\n",
       "    <tr>\n",
       "      <th>0</th>\n",
       "      <td>2025-05-25 00:00:00</td>\n",
       "      <td>205.518219</td>\n",
       "      <td>181.0</td>\n",
       "    </tr>\n",
       "    <tr>\n",
       "      <th>1</th>\n",
       "      <td>2025-05-25 00:30:00</td>\n",
       "      <td>176.106873</td>\n",
       "      <td>168.0</td>\n",
       "    </tr>\n",
       "    <tr>\n",
       "      <th>2</th>\n",
       "      <td>2025-05-25 01:00:00</td>\n",
       "      <td>150.290741</td>\n",
       "      <td>153.0</td>\n",
       "    </tr>\n",
       "    <tr>\n",
       "      <th>3</th>\n",
       "      <td>2025-05-25 01:30:00</td>\n",
       "      <td>137.064606</td>\n",
       "      <td>129.0</td>\n",
       "    </tr>\n",
       "    <tr>\n",
       "      <th>4</th>\n",
       "      <td>2025-05-25 02:00:00</td>\n",
       "      <td>102.546745</td>\n",
       "      <td>105.0</td>\n",
       "    </tr>\n",
       "  </tbody>\n",
       "</table>\n",
       "</div>"
      ],
      "text/plain": [
       "            timestamp  predicted_BGL  actual_BGL\n",
       "0 2025-05-25 00:00:00     205.518219       181.0\n",
       "1 2025-05-25 00:30:00     176.106873       168.0\n",
       "2 2025-05-25 01:00:00     150.290741       153.0\n",
       "3 2025-05-25 01:30:00     137.064606       129.0\n",
       "4 2025-05-25 02:00:00     102.546745       105.0"
      ]
     },
     "execution_count": 28,
     "metadata": {},
     "output_type": "execute_result"
    }
   ],
   "source": [
    "df_30.head()"
   ]
  },
  {
   "cell_type": "code",
   "execution_count": 29,
   "metadata": {},
   "outputs": [],
   "source": [
    "df_30.to_csv('552_seq2seq_bi_lstm_30_min.csv', sep=' ', index = False, quoting=0)"
   ]
  },
  {
   "cell_type": "code",
   "execution_count": 30,
   "metadata": {},
   "outputs": [],
   "source": [
    "df_60 = pd.DataFrame({\n",
    "    'timestamp' : timestamp_col[::12],\n",
    "    'predicted_BGL' : pred[::12],\n",
    "    'actual_BGL' : act[::12]\n",
    "})"
   ]
  },
  {
   "cell_type": "code",
   "execution_count": 31,
   "metadata": {},
   "outputs": [
    {
     "data": {
      "text/html": [
       "<div>\n",
       "<style scoped>\n",
       "    .dataframe tbody tr th:only-of-type {\n",
       "        vertical-align: middle;\n",
       "    }\n",
       "\n",
       "    .dataframe tbody tr th {\n",
       "        vertical-align: top;\n",
       "    }\n",
       "\n",
       "    .dataframe thead th {\n",
       "        text-align: right;\n",
       "    }\n",
       "</style>\n",
       "<table border=\"1\" class=\"dataframe\">\n",
       "  <thead>\n",
       "    <tr style=\"text-align: right;\">\n",
       "      <th></th>\n",
       "      <th>timestamp</th>\n",
       "      <th>predicted_BGL</th>\n",
       "      <th>actual_BGL</th>\n",
       "    </tr>\n",
       "  </thead>\n",
       "  <tbody>\n",
       "    <tr>\n",
       "      <th>0</th>\n",
       "      <td>2025-05-25 00:00:00</td>\n",
       "      <td>205.518219</td>\n",
       "      <td>181.0</td>\n",
       "    </tr>\n",
       "    <tr>\n",
       "      <th>1</th>\n",
       "      <td>2025-05-25 01:00:00</td>\n",
       "      <td>150.290741</td>\n",
       "      <td>153.0</td>\n",
       "    </tr>\n",
       "    <tr>\n",
       "      <th>2</th>\n",
       "      <td>2025-05-25 02:00:00</td>\n",
       "      <td>102.546745</td>\n",
       "      <td>105.0</td>\n",
       "    </tr>\n",
       "    <tr>\n",
       "      <th>3</th>\n",
       "      <td>2025-05-25 03:00:00</td>\n",
       "      <td>70.707893</td>\n",
       "      <td>69.0</td>\n",
       "    </tr>\n",
       "    <tr>\n",
       "      <th>4</th>\n",
       "      <td>2025-05-25 04:00:00</td>\n",
       "      <td>106.117508</td>\n",
       "      <td>109.0</td>\n",
       "    </tr>\n",
       "  </tbody>\n",
       "</table>\n",
       "</div>"
      ],
      "text/plain": [
       "            timestamp  predicted_BGL  actual_BGL\n",
       "0 2025-05-25 00:00:00     205.518219       181.0\n",
       "1 2025-05-25 01:00:00     150.290741       153.0\n",
       "2 2025-05-25 02:00:00     102.546745       105.0\n",
       "3 2025-05-25 03:00:00      70.707893        69.0\n",
       "4 2025-05-25 04:00:00     106.117508       109.0"
      ]
     },
     "execution_count": 31,
     "metadata": {},
     "output_type": "execute_result"
    }
   ],
   "source": [
    "df_60.head()"
   ]
  },
  {
   "cell_type": "code",
   "execution_count": 32,
   "metadata": {},
   "outputs": [],
   "source": [
    "df_60.to_csv('552_seq2seq_bi_lstm_60_min.csv', sep=' ', index = False, quoting=0)"
   ]
  },
  {
   "cell_type": "code",
   "execution_count": null,
   "metadata": {},
   "outputs": [],
   "source": []
  }
 ],
 "metadata": {
  "kernelspec": {
   "display_name": "Python 3",
   "language": "python",
   "name": "python3"
  },
  "language_info": {
   "codemirror_mode": {
    "name": "ipython",
    "version": 3
   },
   "file_extension": ".py",
   "mimetype": "text/x-python",
   "name": "python",
   "nbconvert_exporter": "python",
   "pygments_lexer": "ipython3",
   "version": "3.6.9"
  }
 },
 "nbformat": 4,
 "nbformat_minor": 4
}
